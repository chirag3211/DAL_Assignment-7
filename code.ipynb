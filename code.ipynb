{
 "cells": [
  {
   "cell_type": "markdown",
   "id": "54ad9b5f",
   "metadata": {},
   "source": [
    "# DA5401 A7 — Multi-Class Model Selection (Landsat)\n",
    "\n",
    "**Author:** *Your Name*  \n",
    "**Date:** *YYYY-MM-DD*  \n",
    "**Objective:** Evaluate and compare multiple multi-class classifiers (KNN, Decision Tree, Logistic Regression, SVC, etc.) on the Landsat dataset using ROC and PRC metrics.  \n",
    "**Dataset:** *Landsat Satellite Data* (`sat.trn`, `sat.tst`)  \n",
    "\n",
    "> **Note:** Use the provided train/test split only. **Do not apply cross-validation.**"
   ]
  },
  {
   "cell_type": "code",
   "execution_count": 1,
   "id": "744d3009",
   "metadata": {},
   "outputs": [
    {
     "name": "stdout",
     "output_type": "stream",
     "text": [
      "Environment setup complete. RANDOM_STATE = 42\n"
     ]
    }
   ],
   "source": [
    "# =============================================================\n",
    "# Setup and environment configuration\n",
    "# =============================================================\n",
    "\n",
    "import numpy as np\n",
    "import pandas as pd\n",
    "import matplotlib.pyplot as plt\n",
    "import seaborn as sns\n",
    "\n",
    "from sklearn import preprocessing, metrics\n",
    "from sklearn.metrics import (\n",
    "    accuracy_score, f1_score, roc_curve, auc,\n",
    "    roc_auc_score, precision_recall_curve, average_precision_score\n",
    ")\n",
    "from sklearn.preprocessing import StandardScaler, label_binarize\n",
    "\n",
    "# Classifiers\n",
    "from sklearn.dummy import DummyClassifier\n",
    "from sklearn.neighbors import KNeighborsClassifier\n",
    "from sklearn.tree import DecisionTreeClassifier\n",
    "from sklearn.linear_model import LogisticRegression\n",
    "from sklearn.naive_bayes import GaussianNB\n",
    "from sklearn.svm import SVC\n",
    "\n",
    "# Optional (brownie points)\n",
    "try:\n",
    "    from xgboost import XGBClassifier\n",
    "    XGBOOST_AVAILABLE = True\n",
    "except ImportError:\n",
    "    XGBOOST_AVAILABLE = False\n",
    "    print(\"xgboost not found. You can install it via: !pip install xgboost\")\n",
    "\n",
    "# Global random seed for reproducibility\n",
    "RANDOM_STATE = 42\n",
    "np.random.seed(RANDOM_STATE)\n",
    "\n",
    "# Global plotting style\n",
    "plt.rcParams.update({\n",
    "    'figure.figsize': (7, 5),\n",
    "    'figure.dpi': 120,\n",
    "    'font.size': 11,\n",
    "    'axes.grid': True,\n",
    "    'axes.spines.top': False,\n",
    "    'axes.spines.right': False\n",
    "})\n",
    "\n",
    "print(\"Environment setup complete. RANDOM_STATE =\", RANDOM_STATE)\n"
   ]
  },
  {
   "cell_type": "code",
   "execution_count": 2,
   "id": "6bab48d8",
   "metadata": {},
   "outputs": [
    {
     "name": "stdout",
     "output_type": "stream",
     "text": [
      "numpy: 2.2.6\n",
      "pandas: 2.3.1\n",
      "scikit-learn: 1.7.1\n",
      "xgboost: 3.1.1\n"
     ]
    }
   ],
   "source": [
    "# =============================================================\n",
    "# Library versions for reproducibility\n",
    "# =============================================================\n",
    "print(\"numpy:\", np.__version__)\n",
    "print(\"pandas:\", pd.__version__)\n",
    "import sklearn\n",
    "print(\"scikit-learn:\", sklearn.__version__)\n",
    "if XGBOOST_AVAILABLE:\n",
    "    import xgboost\n",
    "    print(\"xgboost:\", xgboost.__version__)"
   ]
  },
  {
   "cell_type": "code",
   "execution_count": 3,
   "id": "17a06d36",
   "metadata": {},
   "outputs": [
    {
     "name": "stdout",
     "output_type": "stream",
     "text": [
      "Train shape: (4435, 37)\n",
      "Test shape:  (2000, 37)\n"
     ]
    },
    {
     "name": "stderr",
     "output_type": "stream",
     "text": [
      "/tmp/ipykernel_1032/2962856529.py:13: FutureWarning: The 'delim_whitespace' keyword in pd.read_csv is deprecated and will be removed in a future version. Use ``sep='\\s+'`` instead\n",
      "  train_df = pd.read_csv(train_path, delim_whitespace=True, header=None, names=col_names)\n",
      "/tmp/ipykernel_1032/2962856529.py:14: FutureWarning: The 'delim_whitespace' keyword in pd.read_csv is deprecated and will be removed in a future version. Use ``sep='\\s+'`` instead\n",
      "  test_df  = pd.read_csv(test_path,  delim_whitespace=True, header=None, names=col_names)\n"
     ]
    },
    {
     "data": {
      "text/html": [
       "<div>\n",
       "<style scoped>\n",
       "    .dataframe tbody tr th:only-of-type {\n",
       "        vertical-align: middle;\n",
       "    }\n",
       "\n",
       "    .dataframe tbody tr th {\n",
       "        vertical-align: top;\n",
       "    }\n",
       "\n",
       "    .dataframe thead th {\n",
       "        text-align: right;\n",
       "    }\n",
       "</style>\n",
       "<table border=\"1\" class=\"dataframe\">\n",
       "  <thead>\n",
       "    <tr style=\"text-align: right;\">\n",
       "      <th></th>\n",
       "      <th>attr_1</th>\n",
       "      <th>attr_2</th>\n",
       "      <th>attr_3</th>\n",
       "      <th>attr_4</th>\n",
       "      <th>attr_5</th>\n",
       "      <th>attr_6</th>\n",
       "      <th>attr_7</th>\n",
       "      <th>attr_8</th>\n",
       "      <th>attr_9</th>\n",
       "      <th>attr_10</th>\n",
       "      <th>...</th>\n",
       "      <th>attr_28</th>\n",
       "      <th>attr_29</th>\n",
       "      <th>attr_30</th>\n",
       "      <th>attr_31</th>\n",
       "      <th>attr_32</th>\n",
       "      <th>attr_33</th>\n",
       "      <th>attr_34</th>\n",
       "      <th>attr_35</th>\n",
       "      <th>attr_36</th>\n",
       "      <th>label</th>\n",
       "    </tr>\n",
       "  </thead>\n",
       "  <tbody>\n",
       "    <tr>\n",
       "      <th>0</th>\n",
       "      <td>92</td>\n",
       "      <td>115</td>\n",
       "      <td>120</td>\n",
       "      <td>94</td>\n",
       "      <td>84</td>\n",
       "      <td>102</td>\n",
       "      <td>106</td>\n",
       "      <td>79</td>\n",
       "      <td>84</td>\n",
       "      <td>102</td>\n",
       "      <td>...</td>\n",
       "      <td>104</td>\n",
       "      <td>88</td>\n",
       "      <td>121</td>\n",
       "      <td>128</td>\n",
       "      <td>100</td>\n",
       "      <td>84</td>\n",
       "      <td>107</td>\n",
       "      <td>113</td>\n",
       "      <td>87</td>\n",
       "      <td>3</td>\n",
       "    </tr>\n",
       "    <tr>\n",
       "      <th>1</th>\n",
       "      <td>84</td>\n",
       "      <td>102</td>\n",
       "      <td>106</td>\n",
       "      <td>79</td>\n",
       "      <td>84</td>\n",
       "      <td>102</td>\n",
       "      <td>102</td>\n",
       "      <td>83</td>\n",
       "      <td>80</td>\n",
       "      <td>102</td>\n",
       "      <td>...</td>\n",
       "      <td>100</td>\n",
       "      <td>84</td>\n",
       "      <td>107</td>\n",
       "      <td>113</td>\n",
       "      <td>87</td>\n",
       "      <td>84</td>\n",
       "      <td>99</td>\n",
       "      <td>104</td>\n",
       "      <td>79</td>\n",
       "      <td>3</td>\n",
       "    </tr>\n",
       "    <tr>\n",
       "      <th>2</th>\n",
       "      <td>84</td>\n",
       "      <td>102</td>\n",
       "      <td>102</td>\n",
       "      <td>83</td>\n",
       "      <td>80</td>\n",
       "      <td>102</td>\n",
       "      <td>102</td>\n",
       "      <td>79</td>\n",
       "      <td>84</td>\n",
       "      <td>94</td>\n",
       "      <td>...</td>\n",
       "      <td>87</td>\n",
       "      <td>84</td>\n",
       "      <td>99</td>\n",
       "      <td>104</td>\n",
       "      <td>79</td>\n",
       "      <td>84</td>\n",
       "      <td>99</td>\n",
       "      <td>104</td>\n",
       "      <td>79</td>\n",
       "      <td>3</td>\n",
       "    </tr>\n",
       "    <tr>\n",
       "      <th>3</th>\n",
       "      <td>80</td>\n",
       "      <td>102</td>\n",
       "      <td>102</td>\n",
       "      <td>79</td>\n",
       "      <td>84</td>\n",
       "      <td>94</td>\n",
       "      <td>102</td>\n",
       "      <td>79</td>\n",
       "      <td>80</td>\n",
       "      <td>94</td>\n",
       "      <td>...</td>\n",
       "      <td>79</td>\n",
       "      <td>84</td>\n",
       "      <td>99</td>\n",
       "      <td>104</td>\n",
       "      <td>79</td>\n",
       "      <td>84</td>\n",
       "      <td>103</td>\n",
       "      <td>104</td>\n",
       "      <td>79</td>\n",
       "      <td>3</td>\n",
       "    </tr>\n",
       "    <tr>\n",
       "      <th>4</th>\n",
       "      <td>84</td>\n",
       "      <td>94</td>\n",
       "      <td>102</td>\n",
       "      <td>79</td>\n",
       "      <td>80</td>\n",
       "      <td>94</td>\n",
       "      <td>98</td>\n",
       "      <td>76</td>\n",
       "      <td>80</td>\n",
       "      <td>102</td>\n",
       "      <td>...</td>\n",
       "      <td>79</td>\n",
       "      <td>84</td>\n",
       "      <td>103</td>\n",
       "      <td>104</td>\n",
       "      <td>79</td>\n",
       "      <td>79</td>\n",
       "      <td>107</td>\n",
       "      <td>109</td>\n",
       "      <td>87</td>\n",
       "      <td>3</td>\n",
       "    </tr>\n",
       "  </tbody>\n",
       "</table>\n",
       "<p>5 rows × 37 columns</p>\n",
       "</div>"
      ],
      "text/plain": [
       "   attr_1  attr_2  attr_3  attr_4  attr_5  attr_6  attr_7  attr_8  attr_9  \\\n",
       "0      92     115     120      94      84     102     106      79      84   \n",
       "1      84     102     106      79      84     102     102      83      80   \n",
       "2      84     102     102      83      80     102     102      79      84   \n",
       "3      80     102     102      79      84      94     102      79      80   \n",
       "4      84      94     102      79      80      94      98      76      80   \n",
       "\n",
       "   attr_10  ...  attr_28  attr_29  attr_30  attr_31  attr_32  attr_33  \\\n",
       "0      102  ...      104       88      121      128      100       84   \n",
       "1      102  ...      100       84      107      113       87       84   \n",
       "2       94  ...       87       84       99      104       79       84   \n",
       "3       94  ...       79       84       99      104       79       84   \n",
       "4      102  ...       79       84      103      104       79       79   \n",
       "\n",
       "   attr_34  attr_35  attr_36  label  \n",
       "0      107      113       87      3  \n",
       "1       99      104       79      3  \n",
       "2       99      104       79      3  \n",
       "3      103      104       79      3  \n",
       "4      107      109       87      3  \n",
       "\n",
       "[5 rows x 37 columns]"
      ]
     },
     "metadata": {},
     "output_type": "display_data"
    },
    {
     "name": "stdout",
     "output_type": "stream",
     "text": [
      "<class 'pandas.core.frame.DataFrame'>\n",
      "RangeIndex: 4435 entries, 0 to 4434\n",
      "Data columns (total 37 columns):\n",
      " #   Column   Non-Null Count  Dtype\n",
      "---  ------   --------------  -----\n",
      " 0   attr_1   4435 non-null   int64\n",
      " 1   attr_2   4435 non-null   int64\n",
      " 2   attr_3   4435 non-null   int64\n",
      " 3   attr_4   4435 non-null   int64\n",
      " 4   attr_5   4435 non-null   int64\n",
      " 5   attr_6   4435 non-null   int64\n",
      " 6   attr_7   4435 non-null   int64\n",
      " 7   attr_8   4435 non-null   int64\n",
      " 8   attr_9   4435 non-null   int64\n",
      " 9   attr_10  4435 non-null   int64\n",
      " 10  attr_11  4435 non-null   int64\n",
      " 11  attr_12  4435 non-null   int64\n",
      " 12  attr_13  4435 non-null   int64\n",
      " 13  attr_14  4435 non-null   int64\n",
      " 14  attr_15  4435 non-null   int64\n",
      " 15  attr_16  4435 non-null   int64\n",
      " 16  attr_17  4435 non-null   int64\n",
      " 17  attr_18  4435 non-null   int64\n",
      " 18  attr_19  4435 non-null   int64\n",
      " 19  attr_20  4435 non-null   int64\n",
      " 20  attr_21  4435 non-null   int64\n",
      " 21  attr_22  4435 non-null   int64\n",
      " 22  attr_23  4435 non-null   int64\n",
      " 23  attr_24  4435 non-null   int64\n",
      " 24  attr_25  4435 non-null   int64\n",
      " 25  attr_26  4435 non-null   int64\n",
      " 26  attr_27  4435 non-null   int64\n",
      " 27  attr_28  4435 non-null   int64\n",
      " 28  attr_29  4435 non-null   int64\n",
      " 29  attr_30  4435 non-null   int64\n",
      " 30  attr_31  4435 non-null   int64\n",
      " 31  attr_32  4435 non-null   int64\n",
      " 32  attr_33  4435 non-null   int64\n",
      " 33  attr_34  4435 non-null   int64\n",
      " 34  attr_35  4435 non-null   int64\n",
      " 35  attr_36  4435 non-null   int64\n",
      " 36  label    4435 non-null   int64\n",
      "dtypes: int64(37)\n",
      "memory usage: 1.3 MB\n"
     ]
    },
    {
     "data": {
      "text/html": [
       "<div>\n",
       "<style scoped>\n",
       "    .dataframe tbody tr th:only-of-type {\n",
       "        vertical-align: middle;\n",
       "    }\n",
       "\n",
       "    .dataframe tbody tr th {\n",
       "        vertical-align: top;\n",
       "    }\n",
       "\n",
       "    .dataframe thead th {\n",
       "        text-align: right;\n",
       "    }\n",
       "</style>\n",
       "<table border=\"1\" class=\"dataframe\">\n",
       "  <thead>\n",
       "    <tr style=\"text-align: right;\">\n",
       "      <th></th>\n",
       "      <th>count</th>\n",
       "      <th>mean</th>\n",
       "      <th>std</th>\n",
       "      <th>min</th>\n",
       "      <th>25%</th>\n",
       "      <th>50%</th>\n",
       "      <th>75%</th>\n",
       "      <th>max</th>\n",
       "    </tr>\n",
       "  </thead>\n",
       "  <tbody>\n",
       "    <tr>\n",
       "      <th>attr_1</th>\n",
       "      <td>4435.0</td>\n",
       "      <td>69.473957</td>\n",
       "      <td>13.649635</td>\n",
       "      <td>40.0</td>\n",
       "      <td>60.0</td>\n",
       "      <td>68.0</td>\n",
       "      <td>80.0</td>\n",
       "      <td>104.0</td>\n",
       "    </tr>\n",
       "    <tr>\n",
       "      <th>attr_2</th>\n",
       "      <td>4435.0</td>\n",
       "      <td>83.855242</td>\n",
       "      <td>22.725079</td>\n",
       "      <td>27.0</td>\n",
       "      <td>71.0</td>\n",
       "      <td>87.0</td>\n",
       "      <td>103.0</td>\n",
       "      <td>137.0</td>\n",
       "    </tr>\n",
       "    <tr>\n",
       "      <th>attr_3</th>\n",
       "      <td>4435.0</td>\n",
       "      <td>99.322886</td>\n",
       "      <td>16.672166</td>\n",
       "      <td>56.0</td>\n",
       "      <td>85.0</td>\n",
       "      <td>101.0</td>\n",
       "      <td>113.0</td>\n",
       "      <td>140.0</td>\n",
       "    </tr>\n",
       "    <tr>\n",
       "      <th>attr_4</th>\n",
       "      <td>4435.0</td>\n",
       "      <td>82.555581</td>\n",
       "      <td>18.695450</td>\n",
       "      <td>33.0</td>\n",
       "      <td>70.0</td>\n",
       "      <td>83.0</td>\n",
       "      <td>92.0</td>\n",
       "      <td>154.0</td>\n",
       "    </tr>\n",
       "    <tr>\n",
       "      <th>attr_5</th>\n",
       "      <td>4435.0</td>\n",
       "      <td>69.208794</td>\n",
       "      <td>13.552423</td>\n",
       "      <td>40.0</td>\n",
       "      <td>60.0</td>\n",
       "      <td>68.0</td>\n",
       "      <td>80.0</td>\n",
       "      <td>102.0</td>\n",
       "    </tr>\n",
       "  </tbody>\n",
       "</table>\n",
       "</div>"
      ],
      "text/plain": [
       "         count       mean        std   min   25%    50%    75%    max\n",
       "attr_1  4435.0  69.473957  13.649635  40.0  60.0   68.0   80.0  104.0\n",
       "attr_2  4435.0  83.855242  22.725079  27.0  71.0   87.0  103.0  137.0\n",
       "attr_3  4435.0  99.322886  16.672166  56.0  85.0  101.0  113.0  140.0\n",
       "attr_4  4435.0  82.555581  18.695450  33.0  70.0   83.0   92.0  154.0\n",
       "attr_5  4435.0  69.208794  13.552423  40.0  60.0   68.0   80.0  102.0"
      ]
     },
     "metadata": {},
     "output_type": "display_data"
    },
    {
     "name": "stdout",
     "output_type": "stream",
     "text": [
      "✅ No missing values detected.\n",
      "\n",
      "Class distribution (train):\n",
      "label\n",
      "1    1072\n",
      "2     479\n",
      "3     961\n",
      "4     415\n",
      "5     470\n",
      "7    1038\n",
      "Name: count, dtype: int64\n",
      "\n",
      "Class distribution (test):\n",
      "label\n",
      "1    461\n",
      "2    224\n",
      "3    397\n",
      "4    211\n",
      "5    237\n",
      "7    470\n",
      "Name: count, dtype: int64\n",
      "\n",
      "Unique labels present: [np.int64(1), np.int64(2), np.int64(3), np.int64(4), np.int64(5), np.int64(7)]\n",
      "ℹ️ Note: Class 6 is absent (expected).\n"
     ]
    }
   ],
   "source": [
    "# =============================================================\n",
    "# Data Loading and Initial Inspection\n",
    "# =============================================================\n",
    "\n",
    "# File paths (assuming files in working directory)\n",
    "train_path = \"sat.trn\"\n",
    "test_path  = \"sat.tst\"\n",
    "\n",
    "# There are 36 feature columns + 1 label column\n",
    "col_names = [f\"attr_{i}\" for i in range(1, 37)] + [\"label\"]\n",
    "\n",
    "# Load data\n",
    "train_df = pd.read_csv(train_path, delim_whitespace=True, header=None, names=col_names)\n",
    "test_df  = pd.read_csv(test_path,  delim_whitespace=True, header=None, names=col_names)\n",
    "\n",
    "print(f\"Train shape: {train_df.shape}\")\n",
    "print(f\"Test shape:  {test_df.shape}\")\n",
    "\n",
    "# Quick peek\n",
    "display(train_df.head())\n",
    "\n",
    "# Basic info\n",
    "train_df.info()\n",
    "\n",
    "# Summary stats\n",
    "display(train_df.describe().T.head())\n",
    "\n",
    "# Check for missing values\n",
    "assert not train_df.isnull().values.any(), \"Missing values found in train set!\"\n",
    "assert not test_df.isnull().values.any(), \"Missing values found in test set!\"\n",
    "print(\"✅ No missing values detected.\")\n",
    "\n",
    "# Class distribution\n",
    "print(\"\\nClass distribution (train):\")\n",
    "print(train_df[\"label\"].value_counts().sort_index())\n",
    "\n",
    "print(\"\\nClass distribution (test):\")\n",
    "print(test_df[\"label\"].value_counts().sort_index())\n",
    "\n",
    "# Check that classes are as expected\n",
    "unique_labels = sorted(train_df[\"label\"].unique())\n",
    "print(\"\\nUnique labels present:\", unique_labels)\n",
    "if 6 not in unique_labels:\n",
    "    print(\"ℹ️ Note: Class 6 is absent (expected).\")"
   ]
  },
  {
   "cell_type": "markdown",
   "id": "28af9b40",
   "metadata": {},
   "source": [
    "### Dataset Structure and Class Balance\n",
    "\n",
    "The Landsat dataset contains **36 continuous attributes** per sample and a **class label** in `{1, 2, 3, 4, 5, 7}`.  \n",
    "There is **no class 6** in either train or test split.  \n",
    "Training set has ≈ 4435 samples; test set has ≈ 2000.  \n",
    "No missing values were found.  \n",
    "Feature distributions are numeric and ready for standardization in the preprocessing step."
   ]
  },
  {
   "cell_type": "markdown",
   "id": "cdd9d82c",
   "metadata": {},
   "source": [
    "## 3. Preprocessing\n",
    "\n",
    "This step prepares the Landsat data for model training and evaluation.\n",
    "\n",
    "**Steps performed:**\n",
    "1. **Feature Selection:** Use all 36 attributes as features.\n",
    "2. **Feature Scaling:** Standardize features using `StandardScaler` fit on the training data only.\n",
    "3. **Label Handling:** Keep numeric labels `{1, 2, 3, 4, 5, 7}`.\n",
    "4. **Binarization:** Convert labels to a one-vs-rest binary matrix (`label_binarize`) for multi-class ROC and PRC computation.\n",
    "\n",
    "This ensures that all models receive consistent, normalized input and that metrics relying on probability scores (ROC/PRC) can be computed correctly."
   ]
  },
  {
   "cell_type": "code",
   "execution_count": 4,
   "id": "13a85eae",
   "metadata": {},
   "outputs": [
    {
     "name": "stdout",
     "output_type": "stream",
     "text": [
      "Classes used: [np.int64(1), np.int64(2), np.int64(3), np.int64(4), np.int64(5), np.int64(7)]\n",
      "Binarized label shapes — Train: (4435, 6), Test: (2000, 6)\n",
      "\n",
      "Scaled feature sample:\n",
      "     attr_1    attr_2    attr_3    attr_4    attr_5  attr_6    attr_7  \\\n",
      "0  1.650490  1.370656  1.240357  0.612219  1.091530  0.8111  0.410538   \n",
      "1  1.064327  0.798536  0.400540 -0.190206  1.091530  0.8111  0.169946   \n",
      "2  1.064327  0.798536  0.160592  0.023774  0.796346  0.8111  0.169946   \n",
      "\n",
      "     attr_8    attr_9   attr_10  ...   attr_27   attr_28   attr_29   attr_30  \\\n",
      "0 -0.186002  1.114119  0.827198  ...  2.076410  1.129426  1.401588  1.646932   \n",
      "1  0.027763  0.817742  0.827198  ...  1.717121  0.917586  1.106001  1.033153   \n",
      "2 -0.186002  1.114119  0.476486  ...  0.818898  0.229107  1.106001  0.682422   \n",
      "\n",
      "    attr_31   attr_32   attr_33   attr_34   attr_35   attr_36  \n",
      "0  1.721467  0.916791  1.131485  1.047740  0.836699  0.233709  \n",
      "1  0.825374  0.230329  1.131485  0.696247  0.296446 -0.189719  \n",
      "2  0.287719 -0.192109  1.131485  0.696247  0.296446 -0.189719  \n",
      "\n",
      "[3 rows x 36 columns]\n",
      "\n",
      "Scaler mean (first 5): [69.47 83.86 99.32 82.56 69.21]\n",
      "Scaler var (first 5): [186.27 516.31 277.9  349.44 183.63]\n",
      "\n",
      "✅ Preprocessing complete. Features standardized and labels binarized.\n"
     ]
    }
   ],
   "source": [
    "# =============================================================\n",
    "# Preprocessing\n",
    "# =============================================================\n",
    "\n",
    "# --- Split features and labels ---\n",
    "X_train = train_df.drop(columns=[\"label\"])\n",
    "y_train = train_df[\"label\"].values\n",
    "\n",
    "X_test = test_df.drop(columns=[\"label\"])\n",
    "y_test = test_df[\"label\"].values\n",
    "\n",
    "# --- Standardization ---\n",
    "scaler = StandardScaler()\n",
    "X_train_scaled = scaler.fit_transform(X_train)\n",
    "X_test_scaled  = scaler.transform(X_test)\n",
    "\n",
    "# --- Label handling ---\n",
    "class_names = sorted(train_df[\"label\"].unique())\n",
    "print(\"Classes used:\", class_names)\n",
    "\n",
    "# --- Binarize labels (for multi-class ROC/PRC) ---\n",
    "y_train_bin = label_binarize(y_train, classes=class_names)\n",
    "y_test_bin  = label_binarize(y_test,  classes=class_names)\n",
    "\n",
    "print(f\"Binarized label shapes — Train: {y_train_bin.shape}, Test: {y_test_bin.shape}\")\n",
    "\n",
    "# --- Verify scaling statistics ---\n",
    "print(\"\\nScaled feature sample:\")\n",
    "print(pd.DataFrame(X_train_scaled, columns=X_train.columns).head(3))\n",
    "\n",
    "print(\"\\nScaler mean (first 5):\", np.round(scaler.mean_[:5], 2))\n",
    "print(\"Scaler var (first 5):\", np.round(scaler.var_[:5], 2))\n",
    "\n",
    "# --- Sanity checks ---\n",
    "assert X_train_scaled.shape[1] == 36, \"Feature count mismatch after scaling.\"\n",
    "assert y_train_bin.shape[1] == len(class_names), \"Binarized label mismatch.\"\n",
    "\n",
    "print(\"\\n✅ Preprocessing complete. Features standardized and labels binarized.\")"
   ]
  },
  {
   "cell_type": "markdown",
   "id": "98b5f269",
   "metadata": {},
   "source": [
    "### Preprocessing Summary\n",
    "\n",
    "* All 36 attributes retained as features.\n",
    "* Features standardized using z-score normalization (fit on train only).\n",
    "* Labels confirmed to be `{1, 2, 3, 4, 5, 7}`.\n",
    "* Labels successfully binarized for multi-class ROC/PRC computation:\n",
    "  * `y_train_bin` shape: *(4435, 6)*\n",
    "  * `y_test_bin` shape: *(2000, 6)*"
   ]
  },
  {
   "cell_type": "markdown",
   "id": "0acd0872",
   "metadata": {},
   "source": [
    "## 5. Model Definitions and Training\n",
    "\n",
    "We now define and train several classification models on the standardized Landsat dataset.\n",
    "\n",
    "**Models included:**\n",
    "1. **DummyClassifier** (baseline, predicts according to class prior probabilities)\n",
    "2. **KNeighborsClassifier** (`n_neighbors=5`)\n",
    "3. **DecisionTreeClassifier**\n",
    "4. **LogisticRegression**\n",
    "5. **GaussianNB**\n",
    "6. **SVC** (with `probability=True` for ROC/PRC curves)\n",
    "\n",
    "> Optional “brownie point” models — `RandomForestClassifier`, `XGBClassifier` — can be added later.  \n",
    "> All models are trained **only on the given training split** (`sat.trn`) with `RANDOM_STATE=42`."
   ]
  },
  {
   "cell_type": "code",
   "execution_count": 5,
   "id": "b69cc527",
   "metadata": {},
   "outputs": [
    {
     "name": "stdout",
     "output_type": "stream",
     "text": [
      "Label encoding map: {np.int64(1): 0, np.int64(2): 1, np.int64(3): 2, np.int64(4): 3, np.int64(5): 4, np.int64(7): 5}\n",
      "Encoded labels example (first 10): [2 2 2 2 2 2 2 2 3 3]\n",
      "\n",
      "Initialized 8 models:\n"
     ]
    },
    {
     "data": {
      "text/plain": [
       "['Dummy',\n",
       " 'KNN',\n",
       " 'DecisionTree',\n",
       " 'LogisticRegression',\n",
       " 'GaussianNB',\n",
       " 'SVC',\n",
       " 'RandomForest',\n",
       " 'XGBClassifier']"
      ]
     },
     "execution_count": 5,
     "metadata": {},
     "output_type": "execute_result"
    }
   ],
   "source": [
    "# =============================================================\n",
    "# Define models + label encoding fix for XGBoost compatibility\n",
    "# =============================================================\n",
    "\n",
    "from sklearn.ensemble import RandomForestClassifier  # optional, included\n",
    "from xgboost import XGBClassifier  # only runs if installed\n",
    "\n",
    "# --- Label encoding to make classes contiguous [0..5] ---\n",
    "label_map = {label: idx for idx, label in enumerate(class_names)}\n",
    "inv_label_map = {v: k for k, v in label_map.items()}\n",
    "\n",
    "y_train_enc = np.array([label_map[y] for y in y_train])\n",
    "y_test_enc  = np.array([label_map[y] for y in y_test])\n",
    "\n",
    "print(\"Label encoding map:\", label_map)\n",
    "print(\"Encoded labels example (first 10):\", y_train_enc[:10])\n",
    "\n",
    "# --- Model definitions ---\n",
    "models = {\n",
    "    \"Dummy\": DummyClassifier(strategy=\"prior\"),\n",
    "    \"KNN\": KNeighborsClassifier(n_neighbors=5),\n",
    "    \"DecisionTree\": DecisionTreeClassifier(random_state=RANDOM_STATE),\n",
    "    \"LogisticRegression\": LogisticRegression(\n",
    "        max_iter=5000, multi_class=\"ovr\", solver=\"lbfgs\", random_state=RANDOM_STATE\n",
    "    ),\n",
    "    \"GaussianNB\": GaussianNB(),\n",
    "    \"SVC\": SVC(probability=True, random_state=RANDOM_STATE),\n",
    "    \"RandomForest\": RandomForestClassifier(\n",
    "        n_estimators=200, random_state=RANDOM_STATE\n",
    "    ),\n",
    "}\n",
    "\n",
    "# Optional brownie model: XGBoost (only if available)\n",
    "if XGBOOST_AVAILABLE:\n",
    "    models[\"XGBClassifier\"] = XGBClassifier(\n",
    "        use_label_encoder=False,\n",
    "        eval_metric=\"mlogloss\",\n",
    "        random_state=RANDOM_STATE\n",
    "    )\n",
    "\n",
    "print(f\"\\nInitialized {len(models)} models:\")\n",
    "list(models.keys())"
   ]
  },
  {
   "cell_type": "code",
   "execution_count": 6,
   "id": "ac9959bd",
   "metadata": {},
   "outputs": [
    {
     "name": "stdout",
     "output_type": "stream",
     "text": [
      "🔹 Training Dummy ... done.\n",
      "🔹 Training KNN ... done.\n",
      "🔹 Training DecisionTree ... done.\n",
      "🔹 Training LogisticRegression ... "
     ]
    },
    {
     "name": "stderr",
     "output_type": "stream",
     "text": [
      "/home/chirag321122/miniconda3/lib/python3.13/site-packages/sklearn/linear_model/_logistic.py:1281: FutureWarning: 'multi_class' was deprecated in version 1.5 and will be removed in 1.7. Use OneVsRestClassifier(LogisticRegression(..)) instead. Leave it to its default value to avoid this warning.\n",
      "  warnings.warn(\n"
     ]
    },
    {
     "name": "stdout",
     "output_type": "stream",
     "text": [
      "done.\n",
      "🔹 Training GaussianNB ... done.\n",
      "🔹 Training SVC ... done.\n",
      "🔹 Training RandomForest ... done.\n",
      "🔹 Training XGBClassifier ... "
     ]
    },
    {
     "name": "stderr",
     "output_type": "stream",
     "text": [
      "/home/chirag321122/miniconda3/lib/python3.13/site-packages/xgboost/training.py:199: UserWarning: [13:20:49] WARNING: /workspace/src/learner.cc:790: \n",
      "Parameters: { \"use_label_encoder\" } are not used.\n",
      "\n",
      "  bst.update(dtrain, iteration=i, fobj=obj)\n"
     ]
    },
    {
     "name": "stdout",
     "output_type": "stream",
     "text": [
      "done.\n",
      "\n",
      "✅ All models trained successfully using encoded labels.\n"
     ]
    }
   ],
   "source": [
    "# =============================================================\n",
    "# Train all models on scaled features and encoded labels\n",
    "# =============================================================\n",
    "\n",
    "fitted_models = {}\n",
    "\n",
    "for name, model in models.items():\n",
    "    print(f\"🔹 Training {name} ...\", end=\" \")\n",
    "    model.fit(X_train_scaled, y_train_enc)\n",
    "    fitted_models[name] = model\n",
    "    print(\"done.\")\n",
    "\n",
    "print(\"\\n✅ All models trained successfully using encoded labels.\")"
   ]
  },
  {
   "cell_type": "markdown",
   "id": "884e5f51",
   "metadata": {},
   "source": [
    "### Training Notes\n",
    "\n",
    "* Labels encoded from `{1, 2, 3, 4, 5, 7}` → `{0, 1, 2, 3, 4, 5}` to ensure compatibility with all classifiers.\n",
    "* Each model trained on standardized features (`X_train_scaled`).\n",
    "* Models stored in `fitted_models` for evaluation.\n",
    "* Mapping preserved via `label_map` and `inv_label_map` for decoding predictions."
   ]
  },
  {
   "cell_type": "markdown",
   "id": "bd170187",
   "metadata": {},
   "source": [
    "## 6. Baseline Evaluation (Part A)\n",
    "\n",
    "We now evaluate each trained model using simple, threshold-independent metrics:\n",
    "\n",
    "* **Accuracy** — overall fraction of correct predictions.\n",
    "* **Weighted F1 Score** — accounts for class imbalance by weighting each class F1 by its support.\n",
    "\n",
    "> Note: This provides a quick comparison of models before analyzing ROC and PRC curves."
   ]
  },
  {
   "cell_type": "code",
   "execution_count": 7,
   "id": "ab677c18",
   "metadata": {},
   "outputs": [
    {
     "data": {
      "text/html": [
       "<div>\n",
       "<style scoped>\n",
       "    .dataframe tbody tr th:only-of-type {\n",
       "        vertical-align: middle;\n",
       "    }\n",
       "\n",
       "    .dataframe tbody tr th {\n",
       "        vertical-align: top;\n",
       "    }\n",
       "\n",
       "    .dataframe thead th {\n",
       "        text-align: right;\n",
       "    }\n",
       "</style>\n",
       "<table border=\"1\" class=\"dataframe\">\n",
       "  <thead>\n",
       "    <tr style=\"text-align: right;\">\n",
       "      <th></th>\n",
       "      <th>Model</th>\n",
       "      <th>Accuracy</th>\n",
       "      <th>Weighted F1</th>\n",
       "      <th>Supports predict_proba</th>\n",
       "    </tr>\n",
       "  </thead>\n",
       "  <tbody>\n",
       "    <tr>\n",
       "      <th>0</th>\n",
       "      <td>RandomForest</td>\n",
       "      <td>0.9115</td>\n",
       "      <td>0.909437</td>\n",
       "      <td>True</td>\n",
       "    </tr>\n",
       "    <tr>\n",
       "      <th>1</th>\n",
       "      <td>KNN</td>\n",
       "      <td>0.9045</td>\n",
       "      <td>0.903748</td>\n",
       "      <td>True</td>\n",
       "    </tr>\n",
       "    <tr>\n",
       "      <th>2</th>\n",
       "      <td>XGBClassifier</td>\n",
       "      <td>0.9050</td>\n",
       "      <td>0.902956</td>\n",
       "      <td>True</td>\n",
       "    </tr>\n",
       "    <tr>\n",
       "      <th>3</th>\n",
       "      <td>SVC</td>\n",
       "      <td>0.8955</td>\n",
       "      <td>0.892490</td>\n",
       "      <td>True</td>\n",
       "    </tr>\n",
       "    <tr>\n",
       "      <th>4</th>\n",
       "      <td>DecisionTree</td>\n",
       "      <td>0.8505</td>\n",
       "      <td>0.850938</td>\n",
       "      <td>True</td>\n",
       "    </tr>\n",
       "    <tr>\n",
       "      <th>5</th>\n",
       "      <td>GaussianNB</td>\n",
       "      <td>0.7965</td>\n",
       "      <td>0.803581</td>\n",
       "      <td>True</td>\n",
       "    </tr>\n",
       "    <tr>\n",
       "      <th>6</th>\n",
       "      <td>LogisticRegression</td>\n",
       "      <td>0.8210</td>\n",
       "      <td>0.793483</td>\n",
       "      <td>True</td>\n",
       "    </tr>\n",
       "    <tr>\n",
       "      <th>7</th>\n",
       "      <td>Dummy</td>\n",
       "      <td>0.2305</td>\n",
       "      <td>0.086356</td>\n",
       "      <td>True</td>\n",
       "    </tr>\n",
       "  </tbody>\n",
       "</table>\n",
       "</div>"
      ],
      "text/plain": [
       "                Model  Accuracy  Weighted F1  Supports predict_proba\n",
       "0        RandomForest    0.9115     0.909437                    True\n",
       "1                 KNN    0.9045     0.903748                    True\n",
       "2       XGBClassifier    0.9050     0.902956                    True\n",
       "3                 SVC    0.8955     0.892490                    True\n",
       "4        DecisionTree    0.8505     0.850938                    True\n",
       "5          GaussianNB    0.7965     0.803581                    True\n",
       "6  LogisticRegression    0.8210     0.793483                    True\n",
       "7               Dummy    0.2305     0.086356                    True"
      ]
     },
     "execution_count": 7,
     "metadata": {},
     "output_type": "execute_result"
    }
   ],
   "source": [
    "# =============================================================\n",
    "# Baseline evaluation: Accuracy & Weighted F1\n",
    "# =============================================================\n",
    "\n",
    "baseline_results = []\n",
    "\n",
    "for name, model in fitted_models.items():\n",
    "    # Predict using encoded labels\n",
    "    y_pred_enc = model.predict(X_test_scaled)\n",
    "    # Decode back to original label for reporting\n",
    "    y_pred = np.array([inv_label_map[y] for y in y_pred_enc])\n",
    "    \n",
    "    acc = accuracy_score(y_test, y_pred)\n",
    "    f1w = f1_score(y_test, y_pred, average=\"weighted\")\n",
    "    \n",
    "    supports_proba = hasattr(model, \"predict_proba\")\n",
    "    \n",
    "    baseline_results.append({\n",
    "        \"Model\": name,\n",
    "        \"Accuracy\": acc,\n",
    "        \"Weighted F1\": f1w,\n",
    "        \"Supports predict_proba\": supports_proba\n",
    "    })\n",
    "\n",
    "# Create DataFrame and sort by Weighted F1 descending\n",
    "baseline_df = pd.DataFrame(baseline_results).sort_values(\n",
    "    by=\"Weighted F1\", ascending=False\n",
    ").reset_index(drop=True)\n",
    "\n",
    "# Display\n",
    "baseline_df"
   ]
  },
  {
   "cell_type": "markdown",
   "id": "351e9a98",
   "metadata": {},
   "source": [
    "### Baseline Metrics Summary\n",
    "\n",
    "* Models with higher weighted F1 and accuracy are generally better for overall class prediction.\n",
    "* Models supporting `predict_proba` will be used for multi-class ROC and PRC analysis.\n",
    "* Simple metrics do not capture threshold-dependent behavior or minority class performance — hence the need for ROC/PRC evaluation in subsequent steps."
   ]
  },
  {
   "cell_type": "markdown",
   "id": "fea4fceb",
   "metadata": {},
   "source": [
    "## 7. Multi-Class ROC (Part B)\n",
    "\n",
    "**One-vs-Rest (OvR) ROC Approach:**\n",
    "\n",
    "* For each class `i`, treat class `i` as positive and all other classes as negative.\n",
    "* Compute ROC curve (FPR, TPR) and AUC per class.\n",
    "* Combine curves for multi-class evaluation.\n",
    "\n",
    "**Averaging strategies:**\n",
    "\n",
    "1. **Macro-average:** average ROC across classes equally.\n",
    "2. **Weighted-average:** average ROC weighted by class support.\n",
    "3. **Micro-average:** compute metrics across all instances globally.\n",
    "\n",
    "**Formulas:**\n",
    "\n",
    "* True Positive Rate (TPR) = TP / (TP + FN)  \n",
    "* False Positive Rate (FPR) = FP / (FP + TN)  \n",
    "* AUC = Area under the ROC curve\n",
    "\n",
    "> Use `sklearn.metrics.roc_curve` and `roc_auc_score` with binarized labels for multi-class evaluation."
   ]
  },
  {
   "cell_type": "code",
   "execution_count": 8,
   "id": "eb6e1e8b",
   "metadata": {},
   "outputs": [
    {
     "name": "stdout",
     "output_type": "stream",
     "text": [
      "Processing ROC for Dummy ...\n",
      "Processing ROC for KNN ...\n",
      "Processing ROC for DecisionTree ...\n",
      "Processing ROC for LogisticRegression ...\n",
      "Processing ROC for GaussianNB ...\n",
      "Processing ROC for SVC ...\n",
      "Processing ROC for RandomForest ...\n",
      "Processing ROC for XGBClassifier ...\n",
      "\n",
      "✅ ROC computation complete for all models.\n"
     ]
    }
   ],
   "source": [
    "# =============================================================\n",
    "# Compute multi-class ROC curves per model\n",
    "# =============================================================\n",
    "\n",
    "from sklearn.metrics import roc_curve, auc, roc_auc_score\n",
    "\n",
    "roc_results = {}\n",
    "\n",
    "# For each model\n",
    "for name, model in fitted_models.items():\n",
    "    print(f\"Processing ROC for {name} ...\")\n",
    "    \n",
    "    # Use predict_proba if available\n",
    "    if hasattr(model, \"predict_proba\"):\n",
    "        y_score = model.predict_proba(X_test_scaled)\n",
    "    else:\n",
    "        # fallback for decision_function\n",
    "        y_score = model.decision_function(X_test_scaled)\n",
    "        # Ensure shape matches (n_samples, n_classes)\n",
    "        if y_score.ndim == 1:\n",
    "            y_score = y_score[:, np.newaxis]\n",
    "\n",
    "    # Initialize dicts\n",
    "    fpr = dict()\n",
    "    tpr = dict()\n",
    "    aucs = dict()\n",
    "    \n",
    "    # Compute ROC per class\n",
    "    for i, class_label in enumerate(class_names):\n",
    "        fpr[i], tpr[i], _ = roc_curve(y_test_bin[:, i], y_score[:, i])\n",
    "        aucs[i] = auc(fpr[i], tpr[i])\n",
    "    \n",
    "    # Compute macro, weighted, micro AUC\n",
    "    macro_auc = np.mean(list(aucs.values()))\n",
    "    class_counts = np.sum(y_test_bin, axis=0)\n",
    "    weighted_auc = np.average(list(aucs.values()), weights=class_counts)\n",
    "    micro_auc = roc_auc_score(y_test_bin, y_score, average=\"micro\")\n",
    "    \n",
    "    # Store results\n",
    "    roc_results[name] = {\n",
    "        \"fpr\": fpr,\n",
    "        \"tpr\": tpr,\n",
    "        \"auc_per_class\": aucs,\n",
    "        \"macro_auc\": macro_auc,\n",
    "        \"weighted_auc\": weighted_auc,\n",
    "        \"micro_auc\": micro_auc\n",
    "    }\n",
    "\n",
    "print(\"\\n✅ ROC computation complete for all models.\")"
   ]
  },
  {
   "cell_type": "code",
   "execution_count": 9,
   "id": "ba9276c7",
   "metadata": {},
   "outputs": [
    {
     "data": {
      "application/vnd.plotly.v1+json": {
       "config": {
        "plotlyServerURL": "https://plot.ly"
       },
       "data": [
        {
         "line": {
          "color": "#636EFA",
          "width": 3
         },
         "mode": "lines",
         "name": "Dummy (Macro-AUC=0.50)",
         "type": "scatter",
         "x": {
          "bdata": "AAAAAAAAAABbv1Kg1q+EP1u/UqDWr5Q/CB988MEHnz9bv1Kg1q+kPzJvZ0jM26k/CB988MEHrz9wZ0jM2xmyP1u/UqDWr7Q/RhdddNFFtz8yb2dIzNu5Px3HcRzHcbw/CB988MEHvz96O0Ni3s7AP3BnSMzbGcI/ZZNNNtlkwz9bv1Kg1q/EP1HrVwrU+sU/RhdddNFFxz88Q2LezpDIPzJvZ0jM28k/J5tssskmyz8dx3Ecx3HMPxPzdobEvM0/CB988MEHzz9/pUCtXynQP3o7Q2LeztA/ddFFF1100T9wZ0jM2xnSP2r9SoFav9I/ZZNNNtlk0z9gKVDrVwrUP1u/UqDWr9Q/VlVVVVVV1T9R61cK1PrVP0yBWr9SoNY/RhdddNFF1z9BrV8pUOvXPzxDYt7OkNg/N9lkk0022T8yb2dIzNvZPy0Fav1Kgdo/J5tssskm2z8iMW9nSMzbPx3HcRzHcdw/GF100UUX3T8T83aGxLzdPw6JeTtDYt4/CB988MEH3z8DtX6lQK3fP3+lQK1fKeA/ffDBBx984D96O0Ni3s7gP3eGxLydIeE/ddFFF1104T9yHMdxHMfhP3BnSMzbGeI/bbLJJpts4j9q/UqBWr/iP2hIzNsZEuM/ZZNNNtlk4z9j3s6QmLfjP2ApUOtXCuQ/XnTRRRdd5D9bv1Kg1q/kP1gK1PqVAuU/VlVVVVVV5T9ToNavFKjlP1HrVwrU+uU/TjbZZJNN5j9MgVq/UqDmP0nM2xkS8+Y/RhdddNFF5z9EYt7OkJjnP0GtXylQ6+c/P/jggw8+6D88Q2LezpDoPzmO4ziO4+g/N9lkk0026T80JObtDInpPzJvZ0jM2+k/L7rooosu6j8tBWr9SoHqPypQ61cK1Oo/J5tssskm6z8l5u0MiXnrPyIxb2dIzOs/IHzwwQcf7D8dx3Ecx3HsPxsS83aGxOw/GF100UUX7T8VqPUrBWrtPxPzdobEvO0/ED744IMP7j8OiXk7Q2LuPwvU+pUCte4/CB988MEH7z8Gav1KgVrvPwO1fqVAre8/AAAAAAAA8D8=",
          "dtype": "f8"
         },
         "y": {
          "bdata": "AAAAAAAAAABbv1Kg1q+EP1u/UqDWr5Q/CB988MEHnz9bv1Kg1q+kPzFvZ0jM26k/CB988MEHrz9wZ0jM2xmyP1u/UqDWr7Q/RxdddNFFtz8xb2dIzNu5Px3HcRzHcbw/CB988MEHvz95O0Ni3s7AP3BnSMzbGcI/ZZNNNtlkwz9bv1Kg1q/EP1HrVwrU+sU/RxdddNFFxz88Q2LezpDIPzFvZ0jM28k/J5tssskmyz8dx3Ecx3HMPxPzdobEvM0/CB988MEHzz9/pUCtXynQP3k7Q2LeztA/ddFFF1100T9wZ0jM2xnSP2n9SoFav9I/ZZNNNtlk0z9gKVDrVwrUP1u/UqDWr9Q/V1VVVVVV1T9R61cK1PrVP0yBWr9SoNY/RxdddNFF1z9BrV8pUOvXPzxDYt7OkNg/N9lkk0022T8xb2dIzNvZPy0Fav1Kgdo/J5tssskm2z8hMW9nSMzbPx3HcRzHcdw/GF100UUX3T8T83aGxLzdPw+JeTtDYt4/CB988MEH3z8DtX6lQK3fP3+lQK1fKeA/ffDBBx984D95O0Ni3s7gP3eGxLydIeE/ddFFF1104T9xHMdxHMfhP3BnSMzbGeI/bbLJJpts4j9p/UqBWr/iP2hIzNsZEuM/ZZNNNtlk4z9j3s6QmLfjP2ApUOtXCuQ/X3TRRRdd5D9bv1Kg1q/kP1gK1PqVAuU/V1VVVVVV5T9ToNavFKjlP1HrVwrU+uU/TzbZZJNN5j9MgVq/UqDmP0nM2xkS8+Y/RxdddNFF5z9EYt7OkJjnP0GtXylQ6+c/P/jggw8+6D88Q2LezpDoPzmO4ziO4+g/N9lkk0026T80JObtDInpPzFvZ0jM2+k/L7rooosu6j8tBWr9SoHqPylQ61cK1Oo/J5tssskm6z8l5u0MiXnrPyExb2dIzOs/IHzwwQcf7D8dx3Ecx3HsPxsS83aGxOw/GF100UUX7T8VqPUrBWrtPxPzdobEvO0/ED744IMP7j8PiXk7Q2LuPwvU+pUCte4/CB988MEH7z8Hav1KgVrvPwO1fqVAre8/AAAAAAAA8D8=",
          "dtype": "f8"
         }
        },
        {
         "line": {
          "color": "#EF553B",
          "width": 3
         },
         "mode": "lines",
         "name": "KNN (Macro-AUC=0.98)",
         "type": "scatter",
         "x": {
          "bdata": "AAAAAAAAAABbv1Kg1q+EP1u/UqDWr5Q/CB988MEHnz9bv1Kg1q+kPzJvZ0jM26k/CB988MEHrz9wZ0jM2xmyP1u/UqDWr7Q/RhdddNFFtz8yb2dIzNu5Px3HcRzHcbw/CB988MEHvz96O0Ni3s7AP3BnSMzbGcI/ZZNNNtlkwz9bv1Kg1q/EP1HrVwrU+sU/RhdddNFFxz88Q2LezpDIPzJvZ0jM28k/J5tssskmyz8dx3Ecx3HMPxPzdobEvM0/CB988MEHzz9/pUCtXynQP3o7Q2LeztA/ddFFF1100T9wZ0jM2xnSP2r9SoFav9I/ZZNNNtlk0z9gKVDrVwrUP1u/UqDWr9Q/VlVVVVVV1T9R61cK1PrVP0yBWr9SoNY/RhdddNFF1z9BrV8pUOvXPzxDYt7OkNg/N9lkk0022T8yb2dIzNvZPy0Fav1Kgdo/J5tssskm2z8iMW9nSMzbPx3HcRzHcdw/GF100UUX3T8T83aGxLzdPw6JeTtDYt4/CB988MEH3z8DtX6lQK3fP3+lQK1fKeA/ffDBBx984D96O0Ni3s7gP3eGxLydIeE/ddFFF1104T9yHMdxHMfhP3BnSMzbGeI/bbLJJpts4j9q/UqBWr/iP2hIzNsZEuM/ZZNNNtlk4z9j3s6QmLfjP2ApUOtXCuQ/XnTRRRdd5D9bv1Kg1q/kP1gK1PqVAuU/VlVVVVVV5T9ToNavFKjlP1HrVwrU+uU/TjbZZJNN5j9MgVq/UqDmP0nM2xkS8+Y/RhdddNFF5z9EYt7OkJjnP0GtXylQ6+c/P/jggw8+6D88Q2LezpDoPzmO4ziO4+g/N9lkk0026T80JObtDInpPzJvZ0jM2+k/L7rooosu6j8tBWr9SoHqPypQ61cK1Oo/J5tssskm6z8l5u0MiXnrPyIxb2dIzOs/IHzwwQcf7D8dx3Ecx3HsPxsS83aGxOw/GF100UUX7T8VqPUrBWrtPxPzdobEvO0/ED744IMP7j8OiXk7Q2LuPwvU+pUCte4/CB988MEH7z8Gav1KgVrvPwO1fqVAre8/AAAAAAAA8D8=",
          "dtype": "f8"
         },
         "y": {
          "bdata": "gyrzj7f90D9UzDDrE/npPyEfbWhF7Os/5KyANeHR7D+XZgSZGHLtPzdP7wO92O0/uAP8nJ4+7j/DRuUvT3LuPxfmKMtRle4/a4VsZlS47j/AJLABV9vuP2gz4HWP+e4/eNKEyzsQ7z+IcSkh6CbvP70EDao2Ou8/O4++WYo87z+1GXAJ3j7vPzOkIbkxQe8/ry7TaIVD7z8ruYQY2UXvP6hDNsgsSO8/JM7nd4BK7z+gWJkn1EzvPxvjStcnT+8/mG38hntR7z8U+K02z1PvP5CCX+YiVu8/DA0RlnZY7z+Jl8JFylrvPwUidPUdXe8/g6wlpXFf7z//NtdUxWHvP3vBiAQZZO8/9Us6tGxm7z9x1utjwGjvP+9gnRMUa+8/bOtOw2dt7z/odQBzu2/vP2QAsiIPcu8/4Ipj0mJ07z9dFRWCtnbvP9ifxjEKee8/VCp44V177z/QtCmRsX3vP00/20AFgO8/ycmM8FiC7z9FVD6grITvP8He708Ah+8/P2mh/1OJ7z+881Kvp4vvPzh+BF/7je8/swi2Dk+Q7z8vk2e+opLvP6sdGW72lO8/KKjKHUqX7z+kMnzNnZnvPyG9LX3xm+8/nUffLEWe7z8Z0pDcmKDvP5VcQozsou8/EOfzO0Cl7z+NcaXrk6fvPwv8Vpvnqe8/hYYISzus7z8DEbr6jq7vP3+ba6risO8/+yUdWjaz7z94sM4JirXvP/M6gLndt+8/cMUxaTG67z/sT+MYhbzvP2nalMjYvu8/5GRGeCzB7z9h7/cngMPvP915qdfTxe8/WwRbhyfI7z/Vjgw3e8rvP1MZvubOzO8/zaNvliLP7z9LLiFGdtHvP8e40vXJ0+8/Q0OEpR3W7z+/zTVVcdjvPzxY5wTF2u8/uOKYtBjd7z81bUpkbN/vP7D3+xPA4e8/LYKtwxPk7z+oDF9zZ+bvPySXECO76O8/oSHC0g7r7z8frHOCYu3vP5s2JTK27+8/F8HW4Qny7z+TS4iRXfTvPw3WOUGx9u8/i2Dr8AT57z8I65ygWPvvP4R1TlCs/e8/AAAAAAAA8D8=",
          "dtype": "f8"
         }
        },
        {
         "line": {
          "color": "#00CC96",
          "width": 3
         },
         "mode": "lines",
         "name": "DecisionTree (Macro-AUC=0.90)",
         "type": "scatter",
         "x": {
          "bdata": "AAAAAAAAAABbv1Kg1q+EP1u/UqDWr5Q/CB988MEHnz9bv1Kg1q+kPzJvZ0jM26k/CB988MEHrz9wZ0jM2xmyP1u/UqDWr7Q/RhdddNFFtz8yb2dIzNu5Px3HcRzHcbw/CB988MEHvz96O0Ni3s7AP3BnSMzbGcI/ZZNNNtlkwz9bv1Kg1q/EP1HrVwrU+sU/RhdddNFFxz88Q2LezpDIPzJvZ0jM28k/J5tssskmyz8dx3Ecx3HMPxPzdobEvM0/CB988MEHzz9/pUCtXynQP3o7Q2LeztA/ddFFF1100T9wZ0jM2xnSP2r9SoFav9I/ZZNNNtlk0z9gKVDrVwrUP1u/UqDWr9Q/VlVVVVVV1T9R61cK1PrVP0yBWr9SoNY/RhdddNFF1z9BrV8pUOvXPzxDYt7OkNg/N9lkk0022T8yb2dIzNvZPy0Fav1Kgdo/J5tssskm2z8iMW9nSMzbPx3HcRzHcdw/GF100UUX3T8T83aGxLzdPw6JeTtDYt4/CB988MEH3z8DtX6lQK3fP3+lQK1fKeA/ffDBBx984D96O0Ni3s7gP3eGxLydIeE/ddFFF1104T9yHMdxHMfhP3BnSMzbGeI/bbLJJpts4j9q/UqBWr/iP2hIzNsZEuM/ZZNNNtlk4z9j3s6QmLfjP2ApUOtXCuQ/XnTRRRdd5D9bv1Kg1q/kP1gK1PqVAuU/VlVVVVVV5T9ToNavFKjlP1HrVwrU+uU/TjbZZJNN5j9MgVq/UqDmP0nM2xkS8+Y/RhdddNFF5z9EYt7OkJjnP0GtXylQ6+c/P/jggw8+6D88Q2LezpDoPzmO4ziO4+g/N9lkk0026T80JObtDInpPzJvZ0jM2+k/L7rooosu6j8tBWr9SoHqPypQ61cK1Oo/J5tssskm6z8l5u0MiXnrPyIxb2dIzOs/IHzwwQcf7D8dx3Ecx3HsPxsS83aGxOw/GF100UUX7T8VqPUrBWrtPxPzdobEvO0/ED744IMP7j8OiXk7Q2LuPwvU+pUCte4/CB988MEH7z8Gav1KgVrvPwO1fqVAre8/AAAAAAAA8D8=",
          "dtype": "f8"
         },
         "y": {
          "bdata": "AAAAAAAAAACEJ05GMRbcP8f3wrfREuQ/XRKLl+nj5j+gQ3OInqXoP7wZH8iuBeo/AR3UnI6t6j/1Lz3+NLzqP+xCpl/byuo/4VUPwYHZ6j/VaHgiKOjqP8t74YPO9uo/wI5K5XQF6z+1obNGGxTrP6m0HKjBIus/n8eFCWgx6z+U2u5qDkDrP4jtV8y0Tus/fQDBLVtd6z9zEyqPAWzrP2cmk/Cneus/XTn8UU6J6z9TTGWz9JfrP0VfzhSbpus/PHI3dkG16z8whaDX58PrPyWYCTmO0us/G6tymjTh6z8Pvtv72u/rPwPRRF2B/us/+eOtvicN7D/v9hYgzhvsP+MJgIF0Kuw/2Rzp4ho57D/ML1JEwUfsP8NCu6VnVuw/t1UkBw5l7D+raI1otHPsP6F79slaguw/l45fKwGR7D+LociMp5/sP4C0Me5Nruw/dMeaT/S87D9o2gOxmsvsP1/tbBJB2uw/UwDWc+fo7D9JEz/VjffsPz8mqDY0Bu0/MzkRmNoU7T8oTHr5gCPtPxxf41onMu0/E3JMvM1A7T8HhbUddE/tP/uXHn8aXu0/8KqH4MBs7T/lvfBBZ3vtP9vQWaMNiu0/0OPCBLSY7T/E9itmWqftP7gJlccAtu0/rxz+KKfE7T+jL2eKTdPtP5hC0Ovz4e0/jVU5TZrw7T+BaKKuQP/tP3h7CxDnDe4/bI50cY0c7j9hod3SMyvuP1W0RjTaOe4/TMevlYBI7j9A2hj3JlfuPzXtgVjNZe4/KQDruXN07j8gE1QbGoPuPxQmvXzAke4/CTkm3mag7j//S48/Da/uP/Ne+KCzve4/53FhAlrM7j/chMpjANvuP9GXM8Wm6e4/yKqcJk347j+8vQWI8wbvP7DQbumZFe8/pePXSkAk7z+b9kCs5jLvP48Jqg2NQe8/hRwTbzNQ7z95L3zQ2V7vP21C5TGAbe8/ZFVOkyZ87z9YaLf0zIrvP017IFZzme8/Q46Jtxmo7z84ofIYwLbvPyu0W3pmxe8/IcfE2wzU7z8X2i09s+LvPwztlp5Z8e8/AAAAAAAA8D8=",
          "dtype": "f8"
         }
        },
        {
         "line": {
          "color": "#AB63FA",
          "width": 3
         },
         "mode": "lines",
         "name": "LogisticRegression (Macro-AUC=0.95)",
         "type": "scatter",
         "x": {
          "bdata": "AAAAAAAAAABbv1Kg1q+EP1u/UqDWr5Q/CB988MEHnz9bv1Kg1q+kPzJvZ0jM26k/CB988MEHrz9wZ0jM2xmyP1u/UqDWr7Q/RhdddNFFtz8yb2dIzNu5Px3HcRzHcbw/CB988MEHvz96O0Ni3s7AP3BnSMzbGcI/ZZNNNtlkwz9bv1Kg1q/EP1HrVwrU+sU/RhdddNFFxz88Q2LezpDIPzJvZ0jM28k/J5tssskmyz8dx3Ecx3HMPxPzdobEvM0/CB988MEHzz9/pUCtXynQP3o7Q2LeztA/ddFFF1100T9wZ0jM2xnSP2r9SoFav9I/ZZNNNtlk0z9gKVDrVwrUP1u/UqDWr9Q/VlVVVVVV1T9R61cK1PrVP0yBWr9SoNY/RhdddNFF1z9BrV8pUOvXPzxDYt7OkNg/N9lkk0022T8yb2dIzNvZPy0Fav1Kgdo/J5tssskm2z8iMW9nSMzbPx3HcRzHcdw/GF100UUX3T8T83aGxLzdPw6JeTtDYt4/CB988MEH3z8DtX6lQK3fP3+lQK1fKeA/ffDBBx984D96O0Ni3s7gP3eGxLydIeE/ddFFF1104T9yHMdxHMfhP3BnSMzbGeI/bbLJJpts4j9q/UqBWr/iP2hIzNsZEuM/ZZNNNtlk4z9j3s6QmLfjP2ApUOtXCuQ/XnTRRRdd5D9bv1Kg1q/kP1gK1PqVAuU/VlVVVVVV5T9ToNavFKjlP1HrVwrU+uU/TjbZZJNN5j9MgVq/UqDmP0nM2xkS8+Y/RhdddNFF5z9EYt7OkJjnP0GtXylQ6+c/P/jggw8+6D88Q2LezpDoPzmO4ziO4+g/N9lkk0026T80JObtDInpPzJvZ0jM2+k/L7rooosu6j8tBWr9SoHqPypQ61cK1Oo/J5tssskm6z8l5u0MiXnrPyIxb2dIzOs/IHzwwQcf7D8dx3Ecx3HsPxsS83aGxOw/GF100UUX7T8VqPUrBWrtPxPzdobEvO0/ED744IMP7j8OiXk7Q2LuPwvU+pUCte4/CB988MEH7z8Gav1KgVrvPwO1fqVAre8/AAAAAAAA8D8=",
          "dtype": "f8"
         },
         "y": {
          "bdata": "JFjH/iXrtj+gK/oEaaLhP+/YjqywkuU/IYkAWagu5z9IDqzWimXoPzX7u9lmaek/AD9+v4416j/Ak7odC73qP/84ZFwIHOs/Lcbw9PNc6z9j/4g645frPxUE7IAv5us/O7LCGjce7D8LIZ0LT3jsP4UqtwqXoOw/eRohVhL57D89fUW+nTDtP6B4cDhcVe0/qdT0LaJz7T+ZknrIs5ztP9Mzv8tqpe0/2GGBxo207T9d9Z4wP9TtP3yMFmWz+e0/RG2Efx8c7j+Iywt/rjruPzgKWYifR+4/U3MOwvBd7j9jrYZFoI/uP8/X7nUAme4/QMnnnjq57j9vvV6Ec9LuP9nnxrTT2+4/MYdtOUzi7j8HcG8m/gbvPw1OY7RnGu8/vYywvVgn7z+AVr9yMTfvP3H5v8FsQ+8/3SMo8sxM7z/NxihBCFnvP2jKggvLXu8/jXQ374t27z8neJG5TnzvPxgbkgiKiO8/YV053D2b7z+rn+Cv8a3vP/Thh4OlwO8/KOk7GCvM7z9/iOKco9LvP3Er4+ve3u8/uW2Kv5Lx7z+5bYq/kvHvP7ltir+S8e8/VHHkiVX37z9UceSJVffvP1Rx5IlV9+8/VHHkiVX37z9n/KU1PfrvP2f8pTU9+u8/Z/ylNT367z9n/KU1PfrvP2f8pTU9+u8/Z/ylNT367z9n/KU1PfrvP2f8pTU9+u8/Z/ylNT367z9n/KU1PfrvP2f8pTU9+u8/Z/ylNT367z8AAAAAAADwPwAAAAAAAPA/AAAAAAAA8D8AAAAAAADwPwAAAAAAAPA/AAAAAAAA8D8AAAAAAADwPwAAAAAAAPA/AAAAAAAA8D8AAAAAAADwPwAAAAAAAPA/AAAAAAAA8D8AAAAAAADwPwAAAAAAAPA/AAAAAAAA8D8AAAAAAADwPwAAAAAAAPA/AAAAAAAA8D8AAAAAAADwPwAAAAAAAPA/AAAAAAAA8D8AAAAAAADwPwAAAAAAAPA/AAAAAAAA8D8AAAAAAADwPwAAAAAAAPA/AAAAAAAA8D8AAAAAAADwPwAAAAAAAPA/AAAAAAAA8D8=",
          "dtype": "f8"
         }
        },
        {
         "line": {
          "color": "#FFA15A",
          "width": 3
         },
         "mode": "lines",
         "name": "GaussianNB (Macro-AUC=0.96)",
         "type": "scatter",
         "x": {
          "bdata": "AAAAAAAAAABbv1Kg1q+EP1u/UqDWr5Q/CB988MEHnz9bv1Kg1q+kPzJvZ0jM26k/CB988MEHrz9wZ0jM2xmyP1u/UqDWr7Q/RhdddNFFtz8yb2dIzNu5Px3HcRzHcbw/CB988MEHvz96O0Ni3s7AP3BnSMzbGcI/ZZNNNtlkwz9bv1Kg1q/EP1HrVwrU+sU/RhdddNFFxz88Q2LezpDIPzJvZ0jM28k/J5tssskmyz8dx3Ecx3HMPxPzdobEvM0/CB988MEHzz9/pUCtXynQP3o7Q2LeztA/ddFFF1100T9wZ0jM2xnSP2r9SoFav9I/ZZNNNtlk0z9gKVDrVwrUP1u/UqDWr9Q/VlVVVVVV1T9R61cK1PrVP0yBWr9SoNY/RhdddNFF1z9BrV8pUOvXPzxDYt7OkNg/N9lkk0022T8yb2dIzNvZPy0Fav1Kgdo/J5tssskm2z8iMW9nSMzbPx3HcRzHcdw/GF100UUX3T8T83aGxLzdPw6JeTtDYt4/CB988MEH3z8DtX6lQK3fP3+lQK1fKeA/ffDBBx984D96O0Ni3s7gP3eGxLydIeE/ddFFF1104T9yHMdxHMfhP3BnSMzbGeI/bbLJJpts4j9q/UqBWr/iP2hIzNsZEuM/ZZNNNtlk4z9j3s6QmLfjP2ApUOtXCuQ/XnTRRRdd5D9bv1Kg1q/kP1gK1PqVAuU/VlVVVVVV5T9ToNavFKjlP1HrVwrU+uU/TjbZZJNN5j9MgVq/UqDmP0nM2xkS8+Y/RhdddNFF5z9EYt7OkJjnP0GtXylQ6+c/P/jggw8+6D88Q2LezpDoPzmO4ziO4+g/N9lkk0026T80JObtDInpPzJvZ0jM2+k/L7rooosu6j8tBWr9SoHqPypQ61cK1Oo/J5tssskm6z8l5u0MiXnrPyIxb2dIzOs/IHzwwQcf7D8dx3Ecx3HsPxsS83aGxOw/GF100UUX7T8VqPUrBWrtPxPzdobEvO0/ED744IMP7j8OiXk7Q2LuPwvU+pUCte4/CB988MEH7z8Gav1KgVrvPwO1fqVAre8/AAAAAAAA8D8=",
          "dtype": "f8"
         },
         "y": {
          "bdata": "eXNCiQZuYT8NjCtvl0vhP1XdXzAkleQ/E4lIPzRt5j/9CjfVsKrnP6nTrSw3HOk/yPwc2MUw6j+19wMDQ+LqP6ShoitBYus/lz2RAjW16z8omulNowbsP82GCy3MU+w/qGN+C+uv7D8LITbGrNzsPxXGmrvaDe0/dBuuqmMz7T/I5zQob1rtP7Ry8N+Ke+0/g5gYFJym7T9NAqiX4dHtP4PUEguE/u0/A0zJJ88S7j9oJYHp5THuP6PGxeycOu4/M0utTfNG7j85GH1Nk2LuP7mPM2redu4/CHL0xe2L7j8DTt2aO6LuP9mLSmZsuO4/TBLQRQHH7j/wIXlSP9buP8OvtIop6O4/YB86nGkA7z/7IpRmLAbvP8MaZRYoJe8/b6mAjNIt7z+ZMcK36z/vP8BHRQ+7Re8/2X5ZHaJi7z+w0yl+YnXvP7C8xujSeO8/xEeIlLp77z/3TjwpQIfvP2NiQcQQlO8/VAVCE0yg7z8BlF2J9qjvPyc+Em23wO8/TJiRna3D7z9/n0UyM8/vP3FCRoFu2+8/YeVG0Knn7z9h5UbQqefvP3RwCHyR6u8/dHAIfJHq7z+od7wQF/bvP6hgWXuH+e8/qGBZe4f57z+oYFl7h/nvP6hgWXuH+e8/AAAAAAAA8D8AAAAAAADwPwAAAAAAAPA/AAAAAAAA8D8AAAAAAADwPwAAAAAAAPA/AAAAAAAA8D8AAAAAAADwPwAAAAAAAPA/AAAAAAAA8D8AAAAAAADwPwAAAAAAAPA/AAAAAAAA8D8AAAAAAADwPwAAAAAAAPA/AAAAAAAA8D8AAAAAAADwPwAAAAAAAPA/AAAAAAAA8D8AAAAAAADwPwAAAAAAAPA/AAAAAAAA8D8AAAAAAADwPwAAAAAAAPA/AAAAAAAA8D8AAAAAAADwPwAAAAAAAPA/AAAAAAAA8D8AAAAAAADwPwAAAAAAAPA/AAAAAAAA8D8AAAAAAADwPwAAAAAAAPA/AAAAAAAA8D8AAAAAAADwPwAAAAAAAPA/AAAAAAAA8D8AAAAAAADwPwAAAAAAAPA/AAAAAAAA8D8=",
          "dtype": "f8"
         }
        },
        {
         "line": {
          "color": "#19D3F3",
          "width": 3
         },
         "mode": "lines",
         "name": "SVC (Macro-AUC=0.99)",
         "type": "scatter",
         "x": {
          "bdata": "AAAAAAAAAABbv1Kg1q+EP1u/UqDWr5Q/CB988MEHnz9bv1Kg1q+kPzJvZ0jM26k/CB988MEHrz9wZ0jM2xmyP1u/UqDWr7Q/RhdddNFFtz8yb2dIzNu5Px3HcRzHcbw/CB988MEHvz96O0Ni3s7AP3BnSMzbGcI/ZZNNNtlkwz9bv1Kg1q/EP1HrVwrU+sU/RhdddNFFxz88Q2LezpDIPzJvZ0jM28k/J5tssskmyz8dx3Ecx3HMPxPzdobEvM0/CB988MEHzz9/pUCtXynQP3o7Q2LeztA/ddFFF1100T9wZ0jM2xnSP2r9SoFav9I/ZZNNNtlk0z9gKVDrVwrUP1u/UqDWr9Q/VlVVVVVV1T9R61cK1PrVP0yBWr9SoNY/RhdddNFF1z9BrV8pUOvXPzxDYt7OkNg/N9lkk0022T8yb2dIzNvZPy0Fav1Kgdo/J5tssskm2z8iMW9nSMzbPx3HcRzHcdw/GF100UUX3T8T83aGxLzdPw6JeTtDYt4/CB988MEH3z8DtX6lQK3fP3+lQK1fKeA/ffDBBx984D96O0Ni3s7gP3eGxLydIeE/ddFFF1104T9yHMdxHMfhP3BnSMzbGeI/bbLJJpts4j9q/UqBWr/iP2hIzNsZEuM/ZZNNNtlk4z9j3s6QmLfjP2ApUOtXCuQ/XnTRRRdd5D9bv1Kg1q/kP1gK1PqVAuU/VlVVVVVV5T9ToNavFKjlP1HrVwrU+uU/TjbZZJNN5j9MgVq/UqDmP0nM2xkS8+Y/RhdddNFF5z9EYt7OkJjnP0GtXylQ6+c/P/jggw8+6D88Q2LezpDoPzmO4ziO4+g/N9lkk0026T80JObtDInpPzJvZ0jM2+k/L7rooosu6j8tBWr9SoHqPypQ61cK1Oo/J5tssskm6z8l5u0MiXnrPyIxb2dIzOs/IHzwwQcf7D8dx3Ecx3HsPxsS83aGxOw/GF100UUX7T8VqPUrBWrtPxPzdobEvO0/ED744IMP7j8OiXk7Q2LuPwvU+pUCte4/CB988MEH7z8Gav1KgVrvPwO1fqVAre8/AAAAAAAA8D8=",
          "dtype": "f8"
         },
         "y": {
          "bdata": "ZMLOnreD2D9T6jp00cjoP4nZRHw8Ous/VEkgHnGM7D/E3ylcwETtPwe3cJYrs+0/2a455i7+7T+QZJAwPEbuP49Rlgbvie4/T2+V3se17j9o2EoYGczuP9wDcYn34O4/qOWgFN747j/4Wu4JdjDvPx9xcWFFNu8/18ffQERL7z/wMJV6lWHvP5X8Qa6sc+8/lfxBrqxz7z/zyaotSInvP6MI+DY5lu8/+aeeu7Gc7z9RR0VAKqPvP1FHRUAqo+8/qebrxKKp7z+p5uvEoqnvP6nm68Siqe8/vHGtcIqs7z/ET6H+87/vPxzvR4Nsxu8/HO9Hg2zG7z8jzTsR1tnvPyPNOxHW2e8/SeO+aKXf7z+hgmXtHebvP/ghDHKW7O8/+CEMcpbs7z/4IQxyluzvP6hgWXuH+e8/qGBZe4f57z+oYFl7h/nvP6hgWXuH+e8/qGBZe4f57z8AAAAAAADwPwAAAAAAAPA/AAAAAAAA8D8AAAAAAADwPwAAAAAAAPA/AAAAAAAA8D8AAAAAAADwPwAAAAAAAPA/AAAAAAAA8D8AAAAAAADwPwAAAAAAAPA/AAAAAAAA8D8AAAAAAADwPwAAAAAAAPA/AAAAAAAA8D8AAAAAAADwPwAAAAAAAPA/AAAAAAAA8D8AAAAAAADwPwAAAAAAAPA/AAAAAAAA8D8AAAAAAADwPwAAAAAAAPA/AAAAAAAA8D8AAAAAAADwPwAAAAAAAPA/AAAAAAAA8D8AAAAAAADwPwAAAAAAAPA/AAAAAAAA8D8AAAAAAADwPwAAAAAAAPA/AAAAAAAA8D8AAAAAAADwPwAAAAAAAPA/AAAAAAAA8D8AAAAAAADwPwAAAAAAAPA/AAAAAAAA8D8AAAAAAADwPwAAAAAAAPA/AAAAAAAA8D8AAAAAAADwPwAAAAAAAPA/AAAAAAAA8D8AAAAAAADwPwAAAAAAAPA/AAAAAAAA8D8AAAAAAADwPwAAAAAAAPA/AAAAAAAA8D8AAAAAAADwPwAAAAAAAPA/AAAAAAAA8D8AAAAAAADwPwAAAAAAAPA/AAAAAAAA8D8=",
          "dtype": "f8"
         }
        },
        {
         "line": {
          "color": "#FF6692",
          "width": 3
         },
         "mode": "lines",
         "name": "RandomForest (Macro-AUC=0.99)",
         "type": "scatter",
         "x": {
          "bdata": "AAAAAAAAAABbv1Kg1q+EP1u/UqDWr5Q/CB988MEHnz9bv1Kg1q+kPzJvZ0jM26k/CB988MEHrz9wZ0jM2xmyP1u/UqDWr7Q/RhdddNFFtz8yb2dIzNu5Px3HcRzHcbw/CB988MEHvz96O0Ni3s7AP3BnSMzbGcI/ZZNNNtlkwz9bv1Kg1q/EP1HrVwrU+sU/RhdddNFFxz88Q2LezpDIPzJvZ0jM28k/J5tssskmyz8dx3Ecx3HMPxPzdobEvM0/CB988MEHzz9/pUCtXynQP3o7Q2LeztA/ddFFF1100T9wZ0jM2xnSP2r9SoFav9I/ZZNNNtlk0z9gKVDrVwrUP1u/UqDWr9Q/VlVVVVVV1T9R61cK1PrVP0yBWr9SoNY/RhdddNFF1z9BrV8pUOvXPzxDYt7OkNg/N9lkk0022T8yb2dIzNvZPy0Fav1Kgdo/J5tssskm2z8iMW9nSMzbPx3HcRzHcdw/GF100UUX3T8T83aGxLzdPw6JeTtDYt4/CB988MEH3z8DtX6lQK3fP3+lQK1fKeA/ffDBBx984D96O0Ni3s7gP3eGxLydIeE/ddFFF1104T9yHMdxHMfhP3BnSMzbGeI/bbLJJpts4j9q/UqBWr/iP2hIzNsZEuM/ZZNNNtlk4z9j3s6QmLfjP2ApUOtXCuQ/XnTRRRdd5D9bv1Kg1q/kP1gK1PqVAuU/VlVVVVVV5T9ToNavFKjlP1HrVwrU+uU/TjbZZJNN5j9MgVq/UqDmP0nM2xkS8+Y/RhdddNFF5z9EYt7OkJjnP0GtXylQ6+c/P/jggw8+6D88Q2LezpDoPzmO4ziO4+g/N9lkk0026T80JObtDInpPzJvZ0jM2+k/L7rooosu6j8tBWr9SoHqPypQ61cK1Oo/J5tssskm6z8l5u0MiXnrPyIxb2dIzOs/IHzwwQcf7D8dx3Ecx3HsPxsS83aGxOw/GF100UUX7T8VqPUrBWrtPxPzdobEvO0/ED744IMP7j8OiXk7Q2LuPwvU+pUCte4/CB988MEH7z8Gav1KgVrvPwO1fqVAre8/AAAAAAAA8D8=",
          "dtype": "f8"
         },
         "y": {
          "bdata": "faZ4jccM4j+hXhGs+0DqPwgoeyYiNew/zfaPfDc17T/sAKypsuDtPw0mUC2dR+4/gCM1F1Ky7j8ok/I4o+buP9Ogdao7CO8/N/5pkAQb7z/YrFr1bS7vP9MXrq39Ru8/UPs3yopr7z8Ufq6TPpDvPxemAD1zmu8/PbyDlEKg7z+1n8xpWKvvP+i4/E9ct+8/navHWOu+7z9X8mUwdcjvP8VKMxp9z+8/IEvzVJjW7z+skhznSdvvPzdY/by93O8/N1j9vL3c7z9wO+Gl+d3vPzPMsQan4u8/GNK8dePm7z/llkrGrunvP+WWSsau6e8/TX7kM5Pu7z+HlagdpfDvPwR4V17k8e8/medewIfz7z+x2AE0L/fvP5zhmLuh+u8/N4RKe7X97z8AAAAAAADwPwAAAAAAAPA/AAAAAAAA8D8AAAAAAADwPwAAAAAAAPA/AAAAAAAA8D8AAAAAAADwPwAAAAAAAPA/AAAAAAAA8D8AAAAAAADwPwAAAAAAAPA/AAAAAAAA8D8AAAAAAADwPwAAAAAAAPA/AAAAAAAA8D8AAAAAAADwPwAAAAAAAPA/AAAAAAAA8D8AAAAAAADwPwAAAAAAAPA/AAAAAAAA8D8AAAAAAADwPwAAAAAAAPA/AAAAAAAA8D8AAAAAAADwPwAAAAAAAPA/AAAAAAAA8D8AAAAAAADwPwAAAAAAAPA/AAAAAAAA8D8AAAAAAADwPwAAAAAAAPA/AAAAAAAA8D8AAAAAAADwPwAAAAAAAPA/AAAAAAAA8D8AAAAAAADwPwAAAAAAAPA/AAAAAAAA8D8AAAAAAADwPwAAAAAAAPA/AAAAAAAA8D8AAAAAAADwPwAAAAAAAPA/AAAAAAAA8D8AAAAAAADwPwAAAAAAAPA/AAAAAAAA8D8AAAAAAADwPwAAAAAAAPA/AAAAAAAA8D8AAAAAAADwPwAAAAAAAPA/AAAAAAAA8D8AAAAAAADwPwAAAAAAAPA/AAAAAAAA8D8AAAAAAADwPwAAAAAAAPA/AAAAAAAA8D8AAAAAAADwPwAAAAAAAPA/AAAAAAAA8D8=",
          "dtype": "f8"
         }
        },
        {
         "line": {
          "color": "#B6E880",
          "width": 3
         },
         "mode": "lines",
         "name": "XGBClassifier (Macro-AUC=0.99)",
         "type": "scatter",
         "x": {
          "bdata": "AAAAAAAAAABbv1Kg1q+EP1u/UqDWr5Q/CB988MEHnz9bv1Kg1q+kPzJvZ0jM26k/CB988MEHrz9wZ0jM2xmyP1u/UqDWr7Q/RhdddNFFtz8yb2dIzNu5Px3HcRzHcbw/CB988MEHvz96O0Ni3s7AP3BnSMzbGcI/ZZNNNtlkwz9bv1Kg1q/EP1HrVwrU+sU/RhdddNFFxz88Q2LezpDIPzJvZ0jM28k/J5tssskmyz8dx3Ecx3HMPxPzdobEvM0/CB988MEHzz9/pUCtXynQP3o7Q2LeztA/ddFFF1100T9wZ0jM2xnSP2r9SoFav9I/ZZNNNtlk0z9gKVDrVwrUP1u/UqDWr9Q/VlVVVVVV1T9R61cK1PrVP0yBWr9SoNY/RhdddNFF1z9BrV8pUOvXPzxDYt7OkNg/N9lkk0022T8yb2dIzNvZPy0Fav1Kgdo/J5tssskm2z8iMW9nSMzbPx3HcRzHcdw/GF100UUX3T8T83aGxLzdPw6JeTtDYt4/CB988MEH3z8DtX6lQK3fP3+lQK1fKeA/ffDBBx984D96O0Ni3s7gP3eGxLydIeE/ddFFF1104T9yHMdxHMfhP3BnSMzbGeI/bbLJJpts4j9q/UqBWr/iP2hIzNsZEuM/ZZNNNtlk4z9j3s6QmLfjP2ApUOtXCuQ/XnTRRRdd5D9bv1Kg1q/kP1gK1PqVAuU/VlVVVVVV5T9ToNavFKjlP1HrVwrU+uU/TjbZZJNN5j9MgVq/UqDmP0nM2xkS8+Y/RhdddNFF5z9EYt7OkJjnP0GtXylQ6+c/P/jggw8+6D88Q2LezpDoPzmO4ziO4+g/N9lkk0026T80JObtDInpPzJvZ0jM2+k/L7rooosu6j8tBWr9SoHqPypQ61cK1Oo/J5tssskm6z8l5u0MiXnrPyIxb2dIzOs/IHzwwQcf7D8dx3Ecx3HsPxsS83aGxOw/GF100UUX7T8VqPUrBWrtPxPzdobEvO0/ED744IMP7j8OiXk7Q2LuPwvU+pUCte4/CB988MEH7z8Gav1KgVrvPwO1fqVAre8/AAAAAAAA8D8=",
          "dtype": "f8"
         },
         "y": {
          "bdata": "fneRDMDY4T9U8w3FW6DqP69OULnPKew/Iw3N1HcR7T8VOOGgds/tP98V3mRhUe4/FKMfGFWI7j+g5mrlUMLuP7HyHD7h+u4/fY8jCRkd7z8IUQNu7UvvP7ePUHfeWO8/e1lfLLdo7z/T+AWxL2/vP+xhu+qAhe8/WIwjG+GO7z/VQU33KJvvP5kLXKwBq+8/i65c+zy37z857akELsTvP6QXEjWOze8/uKLT4HXQ7z97bOKVTuDvP3ts4pVO4O8/e2zilU7g7z+P96NBNuPvP+WWSsau6e8/5ZZKxq7p7z/llkrGrunvP+WWSsau6e8/ldWXz5/27z+V1ZfPn/bvP5XVl8+f9u8/7XQ+VBj97z/tdD5UGP3vP+10PlQY/e8/7XQ+VBj97z/tdD5UGP3vP+10PlQY/e8/7XQ+VBj97z/tdD5UGP3vPwAAAAAAAPA/AAAAAAAA8D8AAAAAAADwPwAAAAAAAPA/AAAAAAAA8D8AAAAAAADwPwAAAAAAAPA/AAAAAAAA8D8AAAAAAADwPwAAAAAAAPA/AAAAAAAA8D8AAAAAAADwPwAAAAAAAPA/AAAAAAAA8D8AAAAAAADwPwAAAAAAAPA/AAAAAAAA8D8AAAAAAADwPwAAAAAAAPA/AAAAAAAA8D8AAAAAAADwPwAAAAAAAPA/AAAAAAAA8D8AAAAAAADwPwAAAAAAAPA/AAAAAAAA8D8AAAAAAADwPwAAAAAAAPA/AAAAAAAA8D8AAAAAAADwPwAAAAAAAPA/AAAAAAAA8D8AAAAAAADwPwAAAAAAAPA/AAAAAAAA8D8AAAAAAADwPwAAAAAAAPA/AAAAAAAA8D8AAAAAAADwPwAAAAAAAPA/AAAAAAAA8D8AAAAAAADwPwAAAAAAAPA/AAAAAAAA8D8AAAAAAADwPwAAAAAAAPA/AAAAAAAA8D8AAAAAAADwPwAAAAAAAPA/AAAAAAAA8D8AAAAAAADwPwAAAAAAAPA/AAAAAAAA8D8AAAAAAADwPwAAAAAAAPA/AAAAAAAA8D8AAAAAAADwPwAAAAAAAPA/AAAAAAAA8D8=",
          "dtype": "f8"
         }
        },
        {
         "line": {
          "color": "black",
          "dash": "dash",
          "width": 2
         },
         "mode": "lines",
         "name": "Random Chance",
         "type": "scatter",
         "x": [
          0,
          1
         ],
         "y": [
          0,
          1
         ]
        }
       ],
       "layout": {
        "height": 600,
        "legend": {
         "title": {
          "text": "Model"
         },
         "x": 1.05,
         "y": 0.5
        },
        "template": {
         "data": {
          "bar": [
           {
            "error_x": {
             "color": "#2a3f5f"
            },
            "error_y": {
             "color": "#2a3f5f"
            },
            "marker": {
             "line": {
              "color": "#E5ECF6",
              "width": 0.5
             },
             "pattern": {
              "fillmode": "overlay",
              "size": 10,
              "solidity": 0.2
             }
            },
            "type": "bar"
           }
          ],
          "barpolar": [
           {
            "marker": {
             "line": {
              "color": "#E5ECF6",
              "width": 0.5
             },
             "pattern": {
              "fillmode": "overlay",
              "size": 10,
              "solidity": 0.2
             }
            },
            "type": "barpolar"
           }
          ],
          "carpet": [
           {
            "aaxis": {
             "endlinecolor": "#2a3f5f",
             "gridcolor": "white",
             "linecolor": "white",
             "minorgridcolor": "white",
             "startlinecolor": "#2a3f5f"
            },
            "baxis": {
             "endlinecolor": "#2a3f5f",
             "gridcolor": "white",
             "linecolor": "white",
             "minorgridcolor": "white",
             "startlinecolor": "#2a3f5f"
            },
            "type": "carpet"
           }
          ],
          "choropleth": [
           {
            "colorbar": {
             "outlinewidth": 0,
             "ticks": ""
            },
            "type": "choropleth"
           }
          ],
          "contour": [
           {
            "colorbar": {
             "outlinewidth": 0,
             "ticks": ""
            },
            "colorscale": [
             [
              0,
              "#0d0887"
             ],
             [
              0.1111111111111111,
              "#46039f"
             ],
             [
              0.2222222222222222,
              "#7201a8"
             ],
             [
              0.3333333333333333,
              "#9c179e"
             ],
             [
              0.4444444444444444,
              "#bd3786"
             ],
             [
              0.5555555555555556,
              "#d8576b"
             ],
             [
              0.6666666666666666,
              "#ed7953"
             ],
             [
              0.7777777777777778,
              "#fb9f3a"
             ],
             [
              0.8888888888888888,
              "#fdca26"
             ],
             [
              1,
              "#f0f921"
             ]
            ],
            "type": "contour"
           }
          ],
          "contourcarpet": [
           {
            "colorbar": {
             "outlinewidth": 0,
             "ticks": ""
            },
            "type": "contourcarpet"
           }
          ],
          "heatmap": [
           {
            "colorbar": {
             "outlinewidth": 0,
             "ticks": ""
            },
            "colorscale": [
             [
              0,
              "#0d0887"
             ],
             [
              0.1111111111111111,
              "#46039f"
             ],
             [
              0.2222222222222222,
              "#7201a8"
             ],
             [
              0.3333333333333333,
              "#9c179e"
             ],
             [
              0.4444444444444444,
              "#bd3786"
             ],
             [
              0.5555555555555556,
              "#d8576b"
             ],
             [
              0.6666666666666666,
              "#ed7953"
             ],
             [
              0.7777777777777778,
              "#fb9f3a"
             ],
             [
              0.8888888888888888,
              "#fdca26"
             ],
             [
              1,
              "#f0f921"
             ]
            ],
            "type": "heatmap"
           }
          ],
          "histogram": [
           {
            "marker": {
             "pattern": {
              "fillmode": "overlay",
              "size": 10,
              "solidity": 0.2
             }
            },
            "type": "histogram"
           }
          ],
          "histogram2d": [
           {
            "colorbar": {
             "outlinewidth": 0,
             "ticks": ""
            },
            "colorscale": [
             [
              0,
              "#0d0887"
             ],
             [
              0.1111111111111111,
              "#46039f"
             ],
             [
              0.2222222222222222,
              "#7201a8"
             ],
             [
              0.3333333333333333,
              "#9c179e"
             ],
             [
              0.4444444444444444,
              "#bd3786"
             ],
             [
              0.5555555555555556,
              "#d8576b"
             ],
             [
              0.6666666666666666,
              "#ed7953"
             ],
             [
              0.7777777777777778,
              "#fb9f3a"
             ],
             [
              0.8888888888888888,
              "#fdca26"
             ],
             [
              1,
              "#f0f921"
             ]
            ],
            "type": "histogram2d"
           }
          ],
          "histogram2dcontour": [
           {
            "colorbar": {
             "outlinewidth": 0,
             "ticks": ""
            },
            "colorscale": [
             [
              0,
              "#0d0887"
             ],
             [
              0.1111111111111111,
              "#46039f"
             ],
             [
              0.2222222222222222,
              "#7201a8"
             ],
             [
              0.3333333333333333,
              "#9c179e"
             ],
             [
              0.4444444444444444,
              "#bd3786"
             ],
             [
              0.5555555555555556,
              "#d8576b"
             ],
             [
              0.6666666666666666,
              "#ed7953"
             ],
             [
              0.7777777777777778,
              "#fb9f3a"
             ],
             [
              0.8888888888888888,
              "#fdca26"
             ],
             [
              1,
              "#f0f921"
             ]
            ],
            "type": "histogram2dcontour"
           }
          ],
          "mesh3d": [
           {
            "colorbar": {
             "outlinewidth": 0,
             "ticks": ""
            },
            "type": "mesh3d"
           }
          ],
          "parcoords": [
           {
            "line": {
             "colorbar": {
              "outlinewidth": 0,
              "ticks": ""
             }
            },
            "type": "parcoords"
           }
          ],
          "pie": [
           {
            "automargin": true,
            "type": "pie"
           }
          ],
          "scatter": [
           {
            "fillpattern": {
             "fillmode": "overlay",
             "size": 10,
             "solidity": 0.2
            },
            "type": "scatter"
           }
          ],
          "scatter3d": [
           {
            "line": {
             "colorbar": {
              "outlinewidth": 0,
              "ticks": ""
             }
            },
            "marker": {
             "colorbar": {
              "outlinewidth": 0,
              "ticks": ""
             }
            },
            "type": "scatter3d"
           }
          ],
          "scattercarpet": [
           {
            "marker": {
             "colorbar": {
              "outlinewidth": 0,
              "ticks": ""
             }
            },
            "type": "scattercarpet"
           }
          ],
          "scattergeo": [
           {
            "marker": {
             "colorbar": {
              "outlinewidth": 0,
              "ticks": ""
             }
            },
            "type": "scattergeo"
           }
          ],
          "scattergl": [
           {
            "marker": {
             "colorbar": {
              "outlinewidth": 0,
              "ticks": ""
             }
            },
            "type": "scattergl"
           }
          ],
          "scattermap": [
           {
            "marker": {
             "colorbar": {
              "outlinewidth": 0,
              "ticks": ""
             }
            },
            "type": "scattermap"
           }
          ],
          "scattermapbox": [
           {
            "marker": {
             "colorbar": {
              "outlinewidth": 0,
              "ticks": ""
             }
            },
            "type": "scattermapbox"
           }
          ],
          "scatterpolar": [
           {
            "marker": {
             "colorbar": {
              "outlinewidth": 0,
              "ticks": ""
             }
            },
            "type": "scatterpolar"
           }
          ],
          "scatterpolargl": [
           {
            "marker": {
             "colorbar": {
              "outlinewidth": 0,
              "ticks": ""
             }
            },
            "type": "scatterpolargl"
           }
          ],
          "scatterternary": [
           {
            "marker": {
             "colorbar": {
              "outlinewidth": 0,
              "ticks": ""
             }
            },
            "type": "scatterternary"
           }
          ],
          "surface": [
           {
            "colorbar": {
             "outlinewidth": 0,
             "ticks": ""
            },
            "colorscale": [
             [
              0,
              "#0d0887"
             ],
             [
              0.1111111111111111,
              "#46039f"
             ],
             [
              0.2222222222222222,
              "#7201a8"
             ],
             [
              0.3333333333333333,
              "#9c179e"
             ],
             [
              0.4444444444444444,
              "#bd3786"
             ],
             [
              0.5555555555555556,
              "#d8576b"
             ],
             [
              0.6666666666666666,
              "#ed7953"
             ],
             [
              0.7777777777777778,
              "#fb9f3a"
             ],
             [
              0.8888888888888888,
              "#fdca26"
             ],
             [
              1,
              "#f0f921"
             ]
            ],
            "type": "surface"
           }
          ],
          "table": [
           {
            "cells": {
             "fill": {
              "color": "#EBF0F8"
             },
             "line": {
              "color": "white"
             }
            },
            "header": {
             "fill": {
              "color": "#C8D4E3"
             },
             "line": {
              "color": "white"
             }
            },
            "type": "table"
           }
          ]
         },
         "layout": {
          "annotationdefaults": {
           "arrowcolor": "#2a3f5f",
           "arrowhead": 0,
           "arrowwidth": 1
          },
          "autotypenumbers": "strict",
          "coloraxis": {
           "colorbar": {
            "outlinewidth": 0,
            "ticks": ""
           }
          },
          "colorscale": {
           "diverging": [
            [
             0,
             "#8e0152"
            ],
            [
             0.1,
             "#c51b7d"
            ],
            [
             0.2,
             "#de77ae"
            ],
            [
             0.3,
             "#f1b6da"
            ],
            [
             0.4,
             "#fde0ef"
            ],
            [
             0.5,
             "#f7f7f7"
            ],
            [
             0.6,
             "#e6f5d0"
            ],
            [
             0.7,
             "#b8e186"
            ],
            [
             0.8,
             "#7fbc41"
            ],
            [
             0.9,
             "#4d9221"
            ],
            [
             1,
             "#276419"
            ]
           ],
           "sequential": [
            [
             0,
             "#0d0887"
            ],
            [
             0.1111111111111111,
             "#46039f"
            ],
            [
             0.2222222222222222,
             "#7201a8"
            ],
            [
             0.3333333333333333,
             "#9c179e"
            ],
            [
             0.4444444444444444,
             "#bd3786"
            ],
            [
             0.5555555555555556,
             "#d8576b"
            ],
            [
             0.6666666666666666,
             "#ed7953"
            ],
            [
             0.7777777777777778,
             "#fb9f3a"
            ],
            [
             0.8888888888888888,
             "#fdca26"
            ],
            [
             1,
             "#f0f921"
            ]
           ],
           "sequentialminus": [
            [
             0,
             "#0d0887"
            ],
            [
             0.1111111111111111,
             "#46039f"
            ],
            [
             0.2222222222222222,
             "#7201a8"
            ],
            [
             0.3333333333333333,
             "#9c179e"
            ],
            [
             0.4444444444444444,
             "#bd3786"
            ],
            [
             0.5555555555555556,
             "#d8576b"
            ],
            [
             0.6666666666666666,
             "#ed7953"
            ],
            [
             0.7777777777777778,
             "#fb9f3a"
            ],
            [
             0.8888888888888888,
             "#fdca26"
            ],
            [
             1,
             "#f0f921"
            ]
           ]
          },
          "colorway": [
           "#636efa",
           "#EF553B",
           "#00cc96",
           "#ab63fa",
           "#FFA15A",
           "#19d3f3",
           "#FF6692",
           "#B6E880",
           "#FF97FF",
           "#FECB52"
          ],
          "font": {
           "color": "#2a3f5f"
          },
          "geo": {
           "bgcolor": "white",
           "lakecolor": "white",
           "landcolor": "#E5ECF6",
           "showlakes": true,
           "showland": true,
           "subunitcolor": "white"
          },
          "hoverlabel": {
           "align": "left"
          },
          "hovermode": "closest",
          "mapbox": {
           "style": "light"
          },
          "paper_bgcolor": "white",
          "plot_bgcolor": "#E5ECF6",
          "polar": {
           "angularaxis": {
            "gridcolor": "white",
            "linecolor": "white",
            "ticks": ""
           },
           "bgcolor": "#E5ECF6",
           "radialaxis": {
            "gridcolor": "white",
            "linecolor": "white",
            "ticks": ""
           }
          },
          "scene": {
           "xaxis": {
            "backgroundcolor": "#E5ECF6",
            "gridcolor": "white",
            "gridwidth": 2,
            "linecolor": "white",
            "showbackground": true,
            "ticks": "",
            "zerolinecolor": "white"
           },
           "yaxis": {
            "backgroundcolor": "#E5ECF6",
            "gridcolor": "white",
            "gridwidth": 2,
            "linecolor": "white",
            "showbackground": true,
            "ticks": "",
            "zerolinecolor": "white"
           },
           "zaxis": {
            "backgroundcolor": "#E5ECF6",
            "gridcolor": "white",
            "gridwidth": 2,
            "linecolor": "white",
            "showbackground": true,
            "ticks": "",
            "zerolinecolor": "white"
           }
          },
          "shapedefaults": {
           "line": {
            "color": "#2a3f5f"
           }
          },
          "ternary": {
           "aaxis": {
            "gridcolor": "white",
            "linecolor": "white",
            "ticks": ""
           },
           "baxis": {
            "gridcolor": "white",
            "linecolor": "white",
            "ticks": ""
           },
           "bgcolor": "#E5ECF6",
           "caxis": {
            "gridcolor": "white",
            "linecolor": "white",
            "ticks": ""
           }
          },
          "title": {
           "x": 0.05
          },
          "xaxis": {
           "automargin": true,
           "gridcolor": "white",
           "linecolor": "white",
           "ticks": "",
           "title": {
            "standoff": 15
           },
           "zerolinecolor": "white",
           "zerolinewidth": 2
          },
          "yaxis": {
           "automargin": true,
           "gridcolor": "white",
           "linecolor": "white",
           "ticks": "",
           "title": {
            "standoff": 15
           },
           "zerolinecolor": "white",
           "zerolinewidth": 2
          }
         }
        },
        "title": {
         "text": "OvR Macro ROC Curves — Landsat"
        },
        "width": 800,
        "xaxis": {
         "range": [
          0,
          1
         ],
         "title": {
          "text": "False Positive Rate"
         }
        },
        "yaxis": {
         "range": [
          0,
          1
         ],
         "title": {
          "text": "True Positive Rate"
         }
        }
       }
      }
     },
     "metadata": {},
     "output_type": "display_data"
    }
   ],
   "source": [
    "# =============================================================\n",
    "# Plot combined OvR Macro ROC curves using Plotly\n",
    "# =============================================================\n",
    "import plotly.graph_objects as go\n",
    "import numpy as np\n",
    "import plotly.express as px\n",
    "\n",
    "fig = go.Figure()\n",
    "\n",
    "colors = px.colors.qualitative.Plotly  # color palette for up to 10 models\n",
    "\n",
    "for idx, (name, result) in enumerate(roc_results.items()):\n",
    "    # Interpolate TPRs for macro ROC\n",
    "    all_fpr = np.linspace(0, 1, 100)\n",
    "    mean_tpr = np.zeros_like(all_fpr)\n",
    "    for i in range(len(class_names)):\n",
    "        mean_tpr += np.interp(all_fpr, result[\"fpr\"][i], result[\"tpr\"][i])\n",
    "    mean_tpr /= len(class_names)\n",
    "    \n",
    "    fig.add_trace(go.Scatter(\n",
    "        x=all_fpr,\n",
    "        y=mean_tpr,\n",
    "        mode='lines',\n",
    "        name=f\"{name} (Macro-AUC={result['macro_auc']:.2f})\",\n",
    "        line=dict(color=colors[idx % len(colors)], width=3)\n",
    "    ))\n",
    "\n",
    "# Add diagonal random chance line\n",
    "fig.add_trace(go.Scatter(\n",
    "    x=[0, 1],\n",
    "    y=[0, 1],\n",
    "    mode='lines',\n",
    "    name='Random Chance',\n",
    "    line=dict(color='black', width=2, dash='dash')\n",
    "))\n",
    "\n",
    "fig.update_layout(\n",
    "    title=\"OvR Macro ROC Curves — Landsat\",\n",
    "    xaxis_title=\"False Positive Rate\",\n",
    "    yaxis_title=\"True Positive Rate\",\n",
    "    xaxis=dict(range=[0,1]),\n",
    "    yaxis=dict(range=[0,1]),\n",
    "    legend=dict(title=\"Model\", x=1.05, y=0.5),\n",
    "    width=800,\n",
    "    height=600\n",
    ")\n",
    "\n",
    "fig.show()"
   ]
  },
  {
   "cell_type": "markdown",
   "id": "79a20a08",
   "metadata": {},
   "source": [
    "### ROC Interpretation (Part B)\n",
    "\n",
    "* Models with higher **Macro-AUC** perform better across all classes.\n",
    "* A model with **per-class AUC < 0.5** is worse than random for that class — often due to inverted predictions, poor fit, or extreme class imbalance.\n",
    "* Macro-average provides an overall comparison, while per-class AUC highlights minority class performance."
   ]
  },
  {
   "cell_type": "markdown",
   "id": "c366e33f",
   "metadata": {},
   "source": [
    "## 10. Precision-Recall Curve (PRC) — Theory\n",
    "\n",
    "**Precision-Recall Curve (PRC)**\n",
    "\n",
    "* **Precision** = TP / (TP + FP)  \n",
    "* **Recall** = TP / (TP + FN)\n",
    "\n",
    "**Why PRC is useful:**\n",
    "* Focuses on positive-class performance.\n",
    "* More informative than ROC when classes are imbalanced.\n",
    "* Captures trade-offs between retrieving true positives vs. introducing false positives.\n",
    "\n",
    "**Averaging strategies for multi-class:**\n",
    "1. **Macro-AP:** mean of per-class average precision (equal weight per class).  \n",
    "2. **Weighted-AP:** mean weighted by class support.  \n",
    "3. **Micro-AP:** computed across all instances globally (aggregate TP/FP/FN).\n",
    "\n",
    "> Use `precision_recall_curve` and `average_precision_score` from scikit-learn with binarized labels."
   ]
  },
  {
   "cell_type": "code",
   "execution_count": 10,
   "id": "0052b6c6",
   "metadata": {},
   "outputs": [
    {
     "name": "stdout",
     "output_type": "stream",
     "text": [
      "Processing PRC for Dummy ...\n",
      "Processing PRC for KNN ...\n",
      "Processing PRC for DecisionTree ...\n",
      "Processing PRC for LogisticRegression ...\n",
      "Processing PRC for GaussianNB ...\n",
      "Processing PRC for SVC ...\n",
      "Processing PRC for RandomForest ...\n",
      "Processing PRC for XGBClassifier ...\n",
      "\n",
      "✅ PRC computation complete for all models.\n"
     ]
    }
   ],
   "source": [
    "# =============================================================\n",
    "# Compute multi-class PRC curves per model\n",
    "# =============================================================\n",
    "\n",
    "from sklearn.metrics import precision_recall_curve, average_precision_score\n",
    "\n",
    "prc_results = {}\n",
    "\n",
    "for name, model in fitted_models.items():\n",
    "    print(f\"Processing PRC for {name} ...\")\n",
    "    \n",
    "    # Get probability scores\n",
    "    if hasattr(model, \"predict_proba\"):\n",
    "        y_score = model.predict_proba(X_test_scaled)\n",
    "    else:\n",
    "        # fallback: decision_function\n",
    "        y_score = model.decision_function(X_test_scaled)\n",
    "        if y_score.ndim == 1:\n",
    "            y_score = y_score[:, np.newaxis]\n",
    "    \n",
    "    precision = dict()\n",
    "    recall = dict()\n",
    "    average_precision = dict()\n",
    "    \n",
    "    for i, class_label in enumerate(class_names):\n",
    "        precision[i], recall[i], _ = precision_recall_curve(y_test_bin[:, i], y_score[:, i])\n",
    "        average_precision[i] = average_precision_score(y_test_bin[:, i], y_score[:, i])\n",
    "    \n",
    "    macro_ap = np.mean(list(average_precision.values()))\n",
    "    class_counts = np.sum(y_test_bin, axis=0)\n",
    "    weighted_ap = np.average(list(average_precision.values()), weights=class_counts)\n",
    "    micro_ap = average_precision_score(y_test_bin, y_score, average=\"micro\")\n",
    "    \n",
    "    prc_results[name] = {\n",
    "        \"precision\": precision,\n",
    "        \"recall\": recall,\n",
    "        \"average_precision\": average_precision,\n",
    "        \"macro_ap\": macro_ap,\n",
    "        \"weighted_ap\": weighted_ap,\n",
    "        \"micro_ap\": micro_ap\n",
    "    }\n",
    "\n",
    "print(\"\\n✅ PRC computation complete for all models.\")"
   ]
  },
  {
   "cell_type": "code",
   "execution_count": 11,
   "id": "4d589ec4",
   "metadata": {},
   "outputs": [
    {
     "data": {
      "application/vnd.plotly.v1+json": {
       "config": {
        "plotlyServerURL": "https://plot.ly"
       },
       "data": [
        {
         "line": {
          "color": "#636EFA",
          "width": 2
         },
         "mode": "lines",
         "name": "Dummy (Macro-AP=0.17)",
         "type": "scatter",
         "x": {
          "bdata": "AAAAAAAAAABbv1Kg1q+EP1u/UqDWr5Q/CB988MEHnz9bv1Kg1q+kPzJvZ0jM26k/CB988MEHrz9wZ0jM2xmyP1u/UqDWr7Q/RhdddNFFtz8yb2dIzNu5Px3HcRzHcbw/CB988MEHvz96O0Ni3s7AP3BnSMzbGcI/ZZNNNtlkwz9bv1Kg1q/EP1HrVwrU+sU/RhdddNFFxz88Q2LezpDIPzJvZ0jM28k/J5tssskmyz8dx3Ecx3HMPxPzdobEvM0/CB988MEHzz9/pUCtXynQP3o7Q2LeztA/ddFFF1100T9wZ0jM2xnSP2r9SoFav9I/ZZNNNtlk0z9gKVDrVwrUP1u/UqDWr9Q/VlVVVVVV1T9R61cK1PrVP0yBWr9SoNY/RhdddNFF1z9BrV8pUOvXPzxDYt7OkNg/N9lkk0022T8yb2dIzNvZPy0Fav1Kgdo/J5tssskm2z8iMW9nSMzbPx3HcRzHcdw/GF100UUX3T8T83aGxLzdPw6JeTtDYt4/CB988MEH3z8DtX6lQK3fP3+lQK1fKeA/ffDBBx984D96O0Ni3s7gP3eGxLydIeE/ddFFF1104T9yHMdxHMfhP3BnSMzbGeI/bbLJJpts4j9q/UqBWr/iP2hIzNsZEuM/ZZNNNtlk4z9j3s6QmLfjP2ApUOtXCuQ/XnTRRRdd5D9bv1Kg1q/kP1gK1PqVAuU/VlVVVVVV5T9ToNavFKjlP1HrVwrU+uU/TjbZZJNN5j9MgVq/UqDmP0nM2xkS8+Y/RhdddNFF5z9EYt7OkJjnP0GtXylQ6+c/P/jggw8+6D88Q2LezpDoPzmO4ziO4+g/N9lkk0026T80JObtDInpPzJvZ0jM2+k/L7rooosu6j8tBWr9SoHqPypQ61cK1Oo/J5tssskm6z8l5u0MiXnrPyIxb2dIzOs/IHzwwQcf7D8dx3Ecx3HsPxsS83aGxOw/GF100UUX7T8VqPUrBWrtPxPzdobEvO0/ED744IMP7j8OiXk7Q2LuPwvU+pUCte4/CB988MEH7z8Gav1KgVrvPwO1fqVAre8/AAAAAAAA8D8=",
          "dtype": "f8"
         },
         "y": {
          "bdata": "AAAAAAAA8D+DQZQ0C7vvPwSDKGkWdu8/h8S8nSEx7z8IBlHSLOzuP4tH5QY4p+4/DYl5O0Ni7j+Qyg1wTh3uPxEMoqRZ2O0/lE022WST7T8Xj8oNcE7tP5jQXkJ7Ce0/GRLzdobE7D+cU4erkX/sPx2VG+CcOuw/oNavFKj16z8hGERJs7DrP6VZ2H2+a+s/KJtssskm6z+p3ADn1OHqPyselRvgnOo/rV8pUOtX6j8wob2E9hLqP7HiUbkBzuk/NCTm7QyJ6T+1ZXoiGETpPzinDlcj/+g/ueiiiy666D88KjfAOXXoP79ry/REMOg/Qa1fKVDr5z/D7vNdW6bnP0UwiJJmYec/x3Ecx3Ec5z9Js7D7fNfmP8v0RDCIkuY/TTbZZJNN5j/Qd22ZngjmP1G5Ac6pw+U/1PqVArV+5T9WPCo3wDnlP9h9vmvL9OQ/Wr9SoNav5D/dAOfU4WrkP19CewntJeQ/4YMPPvjg4z9jxaNyA5zjP+UGOKcOV+M/aEjM2xkS4z/piWAQJc3iP2zL9EQwiOI/7QyJeTtD4j9vTh2uRv7hP/KPseJRueE/c9FFF1104T/3EtpLaC/hP3hUboBz6uA/+5UCtX6l4D9915bpiWDgP/8YKx6VG+A/A7V+pUCt3z8FOKcOVyPfPwy7z3dtmd4/Dz744IMP3j8UwSBKmoXdPxhESbOw+9w/G8dxHMdx3D8hSpqF3efbPyTNwu7zXds/KVDrVwrU2j8s0xPBIEraPzFWPCo3wNk/Ndlkk0022T85XI38Y6zYPz/ftWV6Itg/QWLezpCY1z9H5QY4pw7XP0toL6G9hNY/UOtXCtT61T9UboBz6nDVP1jxqNwA59Q/XXTRRRdd1D9f9/muLdPTP2V6IhhESdM/av1KgVq/0j9tgHPqcDXSP3MDnFOHq9E/dYbEvJ0h0T97Ce0ltJfQP32MFY/KDdA/Bx988MEHzz8QJc3C7vPNPxUrHpUb4Mw/IDFvZ0jMyz8oN8A5dbjKPzE9EQyipMk/O0Ni3s6QyD9DSbOw+3zHP0xPBIMoacY/VVVVVVVVxT8=",
          "dtype": "f8"
         }
        },
        {
         "line": {
          "color": "#EF553B",
          "width": 2
         },
         "mode": "lines",
         "name": "KNN (Macro-AP=0.92)",
         "type": "scatter",
         "x": {
          "bdata": "AAAAAAAAAABbv1Kg1q+EP1u/UqDWr5Q/CB988MEHnz9bv1Kg1q+kPzJvZ0jM26k/CB988MEHrz9wZ0jM2xmyP1u/UqDWr7Q/RhdddNFFtz8yb2dIzNu5Px3HcRzHcbw/CB988MEHvz96O0Ni3s7AP3BnSMzbGcI/ZZNNNtlkwz9bv1Kg1q/EP1HrVwrU+sU/RhdddNFFxz88Q2LezpDIPzJvZ0jM28k/J5tssskmyz8dx3Ecx3HMPxPzdobEvM0/CB988MEHzz9/pUCtXynQP3o7Q2LeztA/ddFFF1100T9wZ0jM2xnSP2r9SoFav9I/ZZNNNtlk0z9gKVDrVwrUP1u/UqDWr9Q/VlVVVVVV1T9R61cK1PrVP0yBWr9SoNY/RhdddNFF1z9BrV8pUOvXPzxDYt7OkNg/N9lkk0022T8yb2dIzNvZPy0Fav1Kgdo/J5tssskm2z8iMW9nSMzbPx3HcRzHcdw/GF100UUX3T8T83aGxLzdPw6JeTtDYt4/CB988MEH3z8DtX6lQK3fP3+lQK1fKeA/ffDBBx984D96O0Ni3s7gP3eGxLydIeE/ddFFF1104T9yHMdxHMfhP3BnSMzbGeI/bbLJJpts4j9q/UqBWr/iP2hIzNsZEuM/ZZNNNtlk4z9j3s6QmLfjP2ApUOtXCuQ/XnTRRRdd5D9bv1Kg1q/kP1gK1PqVAuU/VlVVVVVV5T9ToNavFKjlP1HrVwrU+uU/TjbZZJNN5j9MgVq/UqDmP0nM2xkS8+Y/RhdddNFF5z9EYt7OkJjnP0GtXylQ6+c/P/jggw8+6D88Q2LezpDoPzmO4ziO4+g/N9lkk0026T80JObtDInpPzJvZ0jM2+k/L7rooosu6j8tBWr9SoHqPypQ61cK1Oo/J5tssskm6z8l5u0MiXnrPyIxb2dIzOs/IHzwwQcf7D8dx3Ecx3HsPxsS83aGxOw/GF100UUX7T8VqPUrBWrtPxPzdobEvO0/ED744IMP7j8OiXk7Q2LuPwvU+pUCte4/CB988MEH7z8Gav1KgVrvPwO1fqVAre8/AAAAAAAA8D8=",
          "dtype": "f8"
         },
         "y": {
          "bdata": "AAAAAAAA8D/HmxRJAf3vP5A3KZIC+u8/WNM92wP37z8gb1IkBfTvP+gKZ20G8e8/saZ7tgfu7z94QpD/COvvP0HepEgK6O8/CXq5kQvl7z/RFc7aDOLvP5ix4iMO3+8/YU33bA/c7z8o6Qu2ENnvP/OEIP8R1u8/uSA1SBPT7z+DvEmRFNDvP0lYXtoVze8/E/RyIxfK7z/Zj4dsGMfvP6MrnLUZxO8/acew/hrB7z8xY8VHHL7vP/n+2ZAdu+8/w5ru2R647z+LNgMjILXvP1TSF2whsu8/G24stSKv7z/jCUH+I6zvP6ulVUclqe8/c0FqkCam7z873X7ZJ6PvPwN5kyIpoO8/yxSoayqd7z+TsLy0K5rvP1xM0f0sl+8/JOjlRi6U7z/sg/qPL5HvP8BnF1CBiu8/oG8RHJN/7z+DdwvopHTvP2N/BbS2ae8/RIf/f8he7z8oj/lL2lPvPwiX8xfsSO8/6Z7t4/097z/LpuevDzPvP6yu4XshKO8/jbbbRzMd7z9vvtUTRRLvP1DGz99WB+8/MM7Jq2j87j9w5rax7/HuP0suaiIv6O4/JHYdk27e7j/9vdADrtTuP9cFhHTtyu4/sE035SzB7j+JlepVbLfuP2Hdncarre4/OyVRN+uj7j8UbQSoKpruP+20txhqkO4/yPxqiamG7j+hRB766HzuP3uM0Wooc+4/hwVJolln7j9cpKoIMFLuPxCDAXYkOe4/xWFY4xgg7j97QK9QDQfuPzAfBr4B7u0/5f1cK/bU7T+b3LOY6rvtP1C7Cgbfou0/BZphc9OJ7T+7eLjgx3DtP29XD068V+0/JDZmu7A+7T/4MSKfliTtP+nvw9mSBu0/JNM4zCfj7D/fv5e4rL7sP5ms9qQxmuw/VZlVkbZ17D9wTojS0E3sP2hZlI32Iew/kc6Qwrby6z9QQFEfRb3rPw+yEXzTh+s/zSPS2GFS6z+bpL3fMRrrPxjhhwCx2eo/YxB9njBR6j/xNARI1qjpP7nM4ypF/+g/m9/XE9i65z8pyrVKFZ7lP8kaLuRGNuE/VVVVVVVVxT8=",
          "dtype": "f8"
         }
        },
        {
         "line": {
          "color": "#00CC96",
          "width": 2
         },
         "mode": "lines",
         "name": "DecisionTree (Macro-AP=0.74)",
         "type": "scatter",
         "x": {
          "bdata": "AAAAAAAAAABbv1Kg1q+EP1u/UqDWr5Q/CB988MEHnz9bv1Kg1q+kPzJvZ0jM26k/CB988MEHrz9wZ0jM2xmyP1u/UqDWr7Q/RhdddNFFtz8yb2dIzNu5Px3HcRzHcbw/CB988MEHvz96O0Ni3s7AP3BnSMzbGcI/ZZNNNtlkwz9bv1Kg1q/EP1HrVwrU+sU/RhdddNFFxz88Q2LezpDIPzJvZ0jM28k/J5tssskmyz8dx3Ecx3HMPxPzdobEvM0/CB988MEHzz9/pUCtXynQP3o7Q2LeztA/ddFFF1100T9wZ0jM2xnSP2r9SoFav9I/ZZNNNtlk0z9gKVDrVwrUP1u/UqDWr9Q/VlVVVVVV1T9R61cK1PrVP0yBWr9SoNY/RhdddNFF1z9BrV8pUOvXPzxDYt7OkNg/N9lkk0022T8yb2dIzNvZPy0Fav1Kgdo/J5tssskm2z8iMW9nSMzbPx3HcRzHcdw/GF100UUX3T8T83aGxLzdPw6JeTtDYt4/CB988MEH3z8DtX6lQK3fP3+lQK1fKeA/ffDBBx984D96O0Ni3s7gP3eGxLydIeE/ddFFF1104T9yHMdxHMfhP3BnSMzbGeI/bbLJJpts4j9q/UqBWr/iP2hIzNsZEuM/ZZNNNtlk4z9j3s6QmLfjP2ApUOtXCuQ/XnTRRRdd5D9bv1Kg1q/kP1gK1PqVAuU/VlVVVVVV5T9ToNavFKjlP1HrVwrU+uU/TjbZZJNN5j9MgVq/UqDmP0nM2xkS8+Y/RhdddNFF5z9EYt7OkJjnP0GtXylQ6+c/P/jggw8+6D88Q2LezpDoPzmO4ziO4+g/N9lkk0026T80JObtDInpPzJvZ0jM2+k/L7rooosu6j8tBWr9SoHqPypQ61cK1Oo/J5tssskm6z8l5u0MiXnrPyIxb2dIzOs/IHzwwQcf7D8dx3Ecx3HsPxsS83aGxOw/GF100UUX7T8VqPUrBWrtPxPzdobEvO0/ED744IMP7j8OiXk7Q2LuPwvU+pUCte4/CB988MEH7z8Gav1KgVrvPwO1fqVAre8/AAAAAAAA8D8=",
          "dtype": "f8"
         },
         "y": {
          "bdata": "AAAAAAAA8D+VEn3HsuvvPykl+o5l1+8/wDd3VhjD7z9USvQdy67vP+lcceV9mu8/gG/urDCG7z8Ugmt043HvP6mU6DuWXe8/PadlA0lJ7z/UueLK+zTvP2nMX5KuIO8//d7cWWEM7z+T8VkhFPjuPygE1+jG4+4/vRZUsHnP7j9TKdF3LLvuP+c7Tj/fpu4/fU7LBpKS7j8TYUjORH7uP6dzxZX3ae4/PIZCXapV7j/RmL8kXUHuP2erPOwPLe4/+725s8IY7j+Q0DZ7dQTuPyfjs0Io8O0/ufUwCtvb7T9QCK7RjcftP+UaK5lAs+0/eS2oYPOe7T8QQCUoportP6RSou9Ydu0/OWUftwti7T/Pd5x+vk3tP2SKGUZxOe0/+ZyWDSQl7T+NrxPV1hDtPyTCkJyJ/Ow/udQNZDzo7D9N54or79PsP+P5B/Ohv+w/eAyFulSr7D8NHwKCB5fsP6Mxf0m6guw/N0T8EG1u7D/NVnnYH1rsP2Np9p/SRew/93tzZ4Ux7D+MjvAuOB3sPyGhbfbqCOw/t7PqvZ306z9LxmeFUODrP+HY5EwDzOs/dethFLa36z9BXYghOKPrP0+YxpAXjes/XdMEAPd26z9rDkNv1mDrP3lJgd61Sus/hYS/TZU06z+Uv/28dB7rP6H6OyxUCOs/rzV6mzPy6j+9cLgKE9zqP8mr9nnyxeo/2OY06dGv6j/lIXNYsZnqP/NcsceQg+o/AZjvNnBt6j8P0y2mT1fqPxwObBUvQeo/K0mqhA4r6j83hOjz7RTqP0W/JmPN/uk/U/pk0qzo6T9gNaNBjNLpP29w4bBrvOk/fKsfIEum6T+J5l2PKpDpP+Xysc2Rb+k/Zb6CO8oo6T/jiVOpAuLoP4x+WMAPdeg/nS1g224B6D+t3Gf2zY3nP3Dgnc4w7OY/R/lEnkc45j8fEuxtXoTlP/Mqkz110OQ/y0M6DYwc5D+jXOHcomjjP3l1iKy5tOI/UY4vfNAA4j8lp9ZL50zhP/2/fRv+mOA/HR7ZNjYi3j9AosmyB6XXP3Umui7ZJ9E/VVVVVVVVxT8=",
          "dtype": "f8"
         }
        },
        {
         "line": {
          "color": "#AB63FA",
          "width": 2
         },
         "mode": "lines",
         "name": "LogisticRegression (Macro-AP=0.81)",
         "type": "scatter",
         "x": {
          "bdata": "AAAAAAAAAABbv1Kg1q+EP1u/UqDWr5Q/CB988MEHnz9bv1Kg1q+kPzJvZ0jM26k/CB988MEHrz9wZ0jM2xmyP1u/UqDWr7Q/RhdddNFFtz8yb2dIzNu5Px3HcRzHcbw/CB988MEHvz96O0Ni3s7AP3BnSMzbGcI/ZZNNNtlkwz9bv1Kg1q/EP1HrVwrU+sU/RhdddNFFxz88Q2LezpDIPzJvZ0jM28k/J5tssskmyz8dx3Ecx3HMPxPzdobEvM0/CB988MEHzz9/pUCtXynQP3o7Q2LeztA/ddFFF1100T9wZ0jM2xnSP2r9SoFav9I/ZZNNNtlk0z9gKVDrVwrUP1u/UqDWr9Q/VlVVVVVV1T9R61cK1PrVP0yBWr9SoNY/RhdddNFF1z9BrV8pUOvXPzxDYt7OkNg/N9lkk0022T8yb2dIzNvZPy0Fav1Kgdo/J5tssskm2z8iMW9nSMzbPx3HcRzHcdw/GF100UUX3T8T83aGxLzdPw6JeTtDYt4/CB988MEH3z8DtX6lQK3fP3+lQK1fKeA/ffDBBx984D96O0Ni3s7gP3eGxLydIeE/ddFFF1104T9yHMdxHMfhP3BnSMzbGeI/bbLJJpts4j9q/UqBWr/iP2hIzNsZEuM/ZZNNNtlk4z9j3s6QmLfjP2ApUOtXCuQ/XnTRRRdd5D9bv1Kg1q/kP1gK1PqVAuU/VlVVVVVV5T9ToNavFKjlP1HrVwrU+uU/TjbZZJNN5j9MgVq/UqDmP0nM2xkS8+Y/RhdddNFF5z9EYt7OkJjnP0GtXylQ6+c/P/jggw8+6D88Q2LezpDoPzmO4ziO4+g/N9lkk0026T80JObtDInpPzJvZ0jM2+k/L7rooosu6j8tBWr9SoHqPypQ61cK1Oo/J5tssskm6z8l5u0MiXnrPyIxb2dIzOs/IHzwwQcf7D8dx3Ecx3HsPxsS83aGxOw/GF100UUX7T8VqPUrBWrtPxPzdobEvO0/ED744IMP7j8OiXk7Q2LuPwvU+pUCte4/CB988MEH7z8Gav1KgVrvPwO1fqVAre8/AAAAAAAA8D8=",
          "dtype": "f8"
         },
         "y": {
          "bdata": "AAAAAAAA8D8AAAAAAADwP3hOv9/Vf+0/WVzXnnM07T/Y0POIosbsP883lRvzAO0/mJv7ubdu7T+IpDELsWbtP4DkBO3u7es/6f2iWNcY7D9TbUFC4cvrP5w3fxGZqOs/9eEr8cu46z9funUD2+DrP5mKgmAO4+s/r0CsGFbI6z+PGFCC9sDrP/VKclSYwus/W4UM2R7A6z+NcT9FAsbrP1C1L9m0ves/vWeIy9K66z8MrWLn2r/rP3FZPmNrwOs/nQTdiPjV6z9VXZxlVKTrP2UJFhvSg+s/I+QNuuWc6z/zDxd9N4LrP1uBjrl4i+s/y2fFKJI96z+fgE2rUhvrP99mFCY6Jes/CDGTMR4k6z9kcXDdhCzrP5WeJh5JCes/XTYBD9oJ6z8PC5MpR/jqP5iswfmr/Oo/JXvSMlH/6j8DYt35+vfqPzjD9nYC2eo/+0RdLIfY6j8p1alAkd7qP/hOzyaQ2eo/EEun5jzB6j+Nvx1K+8HqPyQ65C6Tt+o/AO21BiWs6j9Asip/aLHqP5xIgIRzuuo/zXefdmuz6j9hi+l1erHqP/UjQf7Gjuo/6GlMm91z6j/XCZZQ0njqP9hC2wkMg+o/mOMFLTmF6j9bCQ64NHbqP1k9XQJ2auo/aQKPG/VZ6j9YznPf8FjqP38vbKFGVuo/83c8gOFW6j9bf2k28EfqP/OHG7K7M+o/4WrlpJwm6j+bSg64uxvqP3UWBcI1HOo/jHbuCWD76T/dErbO4v7pP4uZX6lP8+k/5Qdy+SXE6T81L+t6j67pP+9a0QnQg+k/ZAjatd8L6T+nlyxrbgXpP4VUmnfbzOg/MXzvwjCX6D/Zh4NBVnDoP9Dfrk5UOug/3TCPEk8G6D8RQ3xmK5/nPz/8GI3FZOc/GbLJqZ8q5z9hxLGSgA/nP8SXCM71i+Y/c9aQxtc95j8N8R2dhuHlP7Fhzn5NpeU/zQjg1ipl5T9mhPlXegzlP2MkNLoiyeQ/waKImZWZ5D8asjydF0vkP/xK/RCJCOQ/fAcuRmuX4z9NxtISggvjP2f9yYS7+OA/VVVVVVVVxT8=",
          "dtype": "f8"
         }
        },
        {
         "line": {
          "color": "#FFA15A",
          "width": 2
         },
         "mode": "lines",
         "name": "GaussianNB (Macro-AP=0.81)",
         "type": "scatter",
         "x": {
          "bdata": "AAAAAAAAAABbv1Kg1q+EP1u/UqDWr5Q/CB988MEHnz9bv1Kg1q+kPzJvZ0jM26k/CB988MEHrz9wZ0jM2xmyP1u/UqDWr7Q/RhdddNFFtz8yb2dIzNu5Px3HcRzHcbw/CB988MEHvz96O0Ni3s7AP3BnSMzbGcI/ZZNNNtlkwz9bv1Kg1q/EP1HrVwrU+sU/RhdddNFFxz88Q2LezpDIPzJvZ0jM28k/J5tssskmyz8dx3Ecx3HMPxPzdobEvM0/CB988MEHzz9/pUCtXynQP3o7Q2LeztA/ddFFF1100T9wZ0jM2xnSP2r9SoFav9I/ZZNNNtlk0z9gKVDrVwrUP1u/UqDWr9Q/VlVVVVVV1T9R61cK1PrVP0yBWr9SoNY/RhdddNFF1z9BrV8pUOvXPzxDYt7OkNg/N9lkk0022T8yb2dIzNvZPy0Fav1Kgdo/J5tssskm2z8iMW9nSMzbPx3HcRzHcdw/GF100UUX3T8T83aGxLzdPw6JeTtDYt4/CB988MEH3z8DtX6lQK3fP3+lQK1fKeA/ffDBBx984D96O0Ni3s7gP3eGxLydIeE/ddFFF1104T9yHMdxHMfhP3BnSMzbGeI/bbLJJpts4j9q/UqBWr/iP2hIzNsZEuM/ZZNNNtlk4z9j3s6QmLfjP2ApUOtXCuQ/XnTRRRdd5D9bv1Kg1q/kP1gK1PqVAuU/VlVVVVVV5T9ToNavFKjlP1HrVwrU+uU/TjbZZJNN5j9MgVq/UqDmP0nM2xkS8+Y/RhdddNFF5z9EYt7OkJjnP0GtXylQ6+c/P/jggw8+6D88Q2LezpDoPzmO4ziO4+g/N9lkk0026T80JObtDInpPzJvZ0jM2+k/L7rooosu6j8tBWr9SoHqPypQ61cK1Oo/J5tssskm6z8l5u0MiXnrPyIxb2dIzOs/IHzwwQcf7D8dx3Ecx3HsPxsS83aGxOw/GF100UUX7T8VqPUrBWrtPxPzdobEvO0/ED744IMP7j8OiXk7Q2LuPwvU+pUCte4/CB988MEH7z8Gav1KgVrvPwO1fqVAre8/AAAAAAAA8D8=",
          "dtype": "f8"
         },
         "y": {
          "bdata": "AAAAAAAA8D+rIi3rG4/uPxQT9AyU2uw/5R7Poet47T9FiW299ZjtP9V7MYbCnO0/RRuQqKUd7T+VpGaMYVPtP4n6yaTIf+0/I3v3B5Vq7T/wp+a//V3tPyhaye9maO0/lKSVTiCF7T8LImRHMp7tP1G4JqKhKu0/LaiJkhTo7D9jZ1982bnsP7OHp7eview/ZcrolaOd7D9hkDL+DoDsP71E2UR0Yew/RCouemJn7D8FwMT3h2jsP7zkxip8VOw/RTw4EdE47D99rjScTkbsPwQ6K3vlTOw/sQQ/ZGE+7D/zTf7TvEnsP4imUoL8QOw/9cWvbcdF7D/5m3swqy3sP6ea7XQ2KOw/y9x5QS8s7D+JFqmrlR/sP8kxBEV6Dew/GMRUueH56z93xKadPQjsP9jTiodFAOw/M5XG4lMD7D/LV2LQyxHsP7+xT5eqD+w/K5s4xo8H7D+JQ13PDBHsP1s2Jih2COw/+ZUHls/p6z8cCE4p5q/rPyU81Kpwres/D0arq7Op6z8EwfqO6IvrP42oDlmGf+s/cUYGml5h6z+1zFeGzlfrP4Ajib37R+s/NVn2FEYU6z8nsMvK0g7rPyBsiZt78+o/n6jADxP16j+RivbmH+zqP5yt5C15t+o/O+JvZM+Z6j8VWQ7c2orqPxBGlOIxeOo/3eXT16Zh6j/blL3jLlnqPwMBc9CtWOo/eYFP0HQZ6j+L/IBSyQDqP3c4sh6g7Ok/nf8NOpa/6T+5jwON3LPpP3Pvl6QmjOk/INtw8QF/6T/YYvLbpHHpPwdCuwEoMuk/iNhEj+IF6T/5yn0cofboP1ize8rgoeg/ZUi8kBpz6D+Ro0HPTEXoP5mkQCRqJeg/KZBgH/vd5z8AoP9YrnPnPxmhBuXjMuc/FWuhy5jn5j9rBvLc7XbmP2DUdAaoM+Y/5N6a9DPy5T+vceyIPo7lPwtyRLPdCuU/w3Lp0iJu5D9m5zh1QwHkP6lgXjQtqeM/SGnCrVT64j9xi5TdlVfiP4ib9szCbeE/+KAIX5M33z8/LUbIFmXcP70ka/OYC9g/VVVVVVVVxT8=",
          "dtype": "f8"
         }
        },
        {
         "line": {
          "color": "#19D3F3",
          "width": 2
         },
         "mode": "lines",
         "name": "SVC (Macro-AP=0.92)",
         "type": "scatter",
         "x": {
          "bdata": "AAAAAAAAAABbv1Kg1q+EP1u/UqDWr5Q/CB988MEHnz9bv1Kg1q+kPzJvZ0jM26k/CB988MEHrz9wZ0jM2xmyP1u/UqDWr7Q/RhdddNFFtz8yb2dIzNu5Px3HcRzHcbw/CB988MEHvz96O0Ni3s7AP3BnSMzbGcI/ZZNNNtlkwz9bv1Kg1q/EP1HrVwrU+sU/RhdddNFFxz88Q2LezpDIPzJvZ0jM28k/J5tssskmyz8dx3Ecx3HMPxPzdobEvM0/CB988MEHzz9/pUCtXynQP3o7Q2LeztA/ddFFF1100T9wZ0jM2xnSP2r9SoFav9I/ZZNNNtlk0z9gKVDrVwrUP1u/UqDWr9Q/VlVVVVVV1T9R61cK1PrVP0yBWr9SoNY/RhdddNFF1z9BrV8pUOvXPzxDYt7OkNg/N9lkk0022T8yb2dIzNvZPy0Fav1Kgdo/J5tssskm2z8iMW9nSMzbPx3HcRzHcdw/GF100UUX3T8T83aGxLzdPw6JeTtDYt4/CB988MEH3z8DtX6lQK3fP3+lQK1fKeA/ffDBBx984D96O0Ni3s7gP3eGxLydIeE/ddFFF1104T9yHMdxHMfhP3BnSMzbGeI/bbLJJpts4j9q/UqBWr/iP2hIzNsZEuM/ZZNNNtlk4z9j3s6QmLfjP2ApUOtXCuQ/XnTRRRdd5D9bv1Kg1q/kP1gK1PqVAuU/VlVVVVVV5T9ToNavFKjlP1HrVwrU+uU/TjbZZJNN5j9MgVq/UqDmP0nM2xkS8+Y/RhdddNFF5z9EYt7OkJjnP0GtXylQ6+c/P/jggw8+6D88Q2LezpDoPzmO4ziO4+g/N9lkk0026T80JObtDInpPzJvZ0jM2+k/L7rooosu6j8tBWr9SoHqPypQ61cK1Oo/J5tssskm6z8l5u0MiXnrPyIxb2dIzOs/IHzwwQcf7D8dx3Ecx3HsPxsS83aGxOw/GF100UUX7T8VqPUrBWrtPxPzdobEvO0/ED744IMP7j8OiXk7Q2LuPwvU+pUCte4/CB988MEH7z8Gav1KgVrvPwO1fqVAre8/AAAAAAAA8D8=",
          "dtype": "f8"
         },
         "y": {
          "bdata": "q6qqqqqq6j8YkeVT1EfuP5DwTQ99Y+4/f9k6OcLd7j98klWRISDvP8OQX6cWrO4/tZkcJAFl7j/hjF3RD3HuP9jtEEEpZe4/kDG+dR6M7j8Vklhso4DuP9nPOEl4VO4/GyS8P8Jx7j8txXsNwWzuP0uCKKJ+hO4/0YpCw4tl7j8jFEmURHruPxdErl2lau4/a1FV6hZt7j/Vpz1arWnuP3d056Gmeu4/DWaWqvJ27j9R/AKnwUPuP+WGGtNQQ+4/sQpUgDlS7j+PTPv1XlTuPyvTP1gwU+4/qHzY5Rxg7j8Mz26UQ1HuP1QraEA+Xe4/j2Sv/ZFo7j+xz2Qw71ruP7TfSbiUUO4/i13tYlg67j8XXQuK00TuP03HQJXUTu4/Vf4qm4hE7j8cLfVFFjvuP5xyG7FYRO4/VO1LkDlN7j+AstVrwFXuP600s7DyXe4/SNRjQNVl7j/n0VmWQlTuP9Q+XUHdW+4/Wxa3jXBT7j8IV4pSYEzuP6XJBJaWU+4/D+deZEtN7j8jePgED03uP6yjs72cR+4/+TKsxuJI7j88L1473kTuP5DhUKnVMO4/Be4oqWge7j9waiDqJiXuPxGefkTJH+4/ky8BOFIc7j9dT2xIQRjuP8VhRNudBO4/3Oh5piEL7j+Nsw6rhePtP+GToubN2+0/KZCldXbZ7T+7XYCDAbvtP0mIjUrus+0/9QHohoy27T9oE/MSJr3tP+EyMOLXtu0/L//nHfiP7T8VlNlfLnvtPzULkMI4a+0/FQPAIAk/7T+8eElwIzDtP8eCOINbFO0/j2N976Tq7D+Aooq1FtrsPxjh6slywuw/rLOuO7K07D+p14KcpKnsP7huLFh7iew/4dqz4VaA7D8TjkfWgVzsP4TvonPkPuw/z/tS8gYF7D8sCB6Fi7HrP4dgn7ASiOs/SyQezn9Q6z9ot5PPSfbqP+nTJo0uvOo/cHqUGSuZ6j/Y30PkNk/qPyABKvYf9uk/WUoVV0GI6T/UwdasIgbpP5064Bsex+g/5yKN/r5E6D+oIwnkIYrnP5viu9YY1eY/VVVVVVVVxT8=",
          "dtype": "f8"
         }
        },
        {
         "line": {
          "color": "#FF6692",
          "width": 2
         },
         "mode": "lines",
         "name": "RandomForest (Macro-AP=0.95)",
         "type": "scatter",
         "x": {
          "bdata": "AAAAAAAAAABbv1Kg1q+EP1u/UqDWr5Q/CB988MEHnz9bv1Kg1q+kPzJvZ0jM26k/CB988MEHrz9wZ0jM2xmyP1u/UqDWr7Q/RhdddNFFtz8yb2dIzNu5Px3HcRzHcbw/CB988MEHvz96O0Ni3s7AP3BnSMzbGcI/ZZNNNtlkwz9bv1Kg1q/EP1HrVwrU+sU/RhdddNFFxz88Q2LezpDIPzJvZ0jM28k/J5tssskmyz8dx3Ecx3HMPxPzdobEvM0/CB988MEHzz9/pUCtXynQP3o7Q2LeztA/ddFFF1100T9wZ0jM2xnSP2r9SoFav9I/ZZNNNtlk0z9gKVDrVwrUP1u/UqDWr9Q/VlVVVVVV1T9R61cK1PrVP0yBWr9SoNY/RhdddNFF1z9BrV8pUOvXPzxDYt7OkNg/N9lkk0022T8yb2dIzNvZPy0Fav1Kgdo/J5tssskm2z8iMW9nSMzbPx3HcRzHcdw/GF100UUX3T8T83aGxLzdPw6JeTtDYt4/CB988MEH3z8DtX6lQK3fP3+lQK1fKeA/ffDBBx984D96O0Ni3s7gP3eGxLydIeE/ddFFF1104T9yHMdxHMfhP3BnSMzbGeI/bbLJJpts4j9q/UqBWr/iP2hIzNsZEuM/ZZNNNtlk4z9j3s6QmLfjP2ApUOtXCuQ/XnTRRRdd5D9bv1Kg1q/kP1gK1PqVAuU/VlVVVVVV5T9ToNavFKjlP1HrVwrU+uU/TjbZZJNN5j9MgVq/UqDmP0nM2xkS8+Y/RhdddNFF5z9EYt7OkJjnP0GtXylQ6+c/P/jggw8+6D88Q2LezpDoPzmO4ziO4+g/N9lkk0026T80JObtDInpPzJvZ0jM2+k/L7rooosu6j8tBWr9SoHqPypQ61cK1Oo/J5tssskm6z8l5u0MiXnrPyIxb2dIzOs/IHzwwQcf7D8dx3Ecx3HsPxsS83aGxOw/GF100UUX7T8VqPUrBWrtPxPzdobEvO0/ED744IMP7j8OiXk7Q2LuPwvU+pUCte4/CB988MEH7z8Gav1KgVrvPwO1fqVAre8/AAAAAAAA8D8=",
          "dtype": "f8"
         },
         "y": {
          "bdata": "AAAAAAAA8D8AAAAAAADwPwAAAAAAAPA/AAAAAAAA8D8AAAAAAADwPwAAAAAAAPA/AAAAAAAA8D8AAAAAAADwPwAAAAAAAPA/AAAAAAAA8D8AAAAAAADwPwAAAAAAAPA/AAAAAAAA8D8AAAAAAADwPwAAAAAAAPA/AAAAAAAA8D8AAAAAAADwPwAAAAAAAPA/AAAAAAAA8D8AAAAAAADwPwAAAAAAAPA/AAAAAAAA8D8AAAAAAADwPx3dhoWx5O8/qB8DONHl7z+VQ+eX2ObvP+BakKjK5+8/tw6Hmazo7z9gxu941trvPxPQKA801e8/rNJt2ozW7z9Z+E3w4dfvP+U5Wz8S2e8/TyjlSz/a7z+Q3m9at8nvP1g/ZC02y+8/a/Qr5JfM7z8tZNRN9c3vP9Uripz6oe8/bfPyK4if7z8UOOdIwZLvPyeGcpQqju8/7wboLFh/7z/gxlCHKVnvPzdkJ6BQS+8/BekevgI07z/DNFqYAC7vP3BZCkCvKO8/DVOXnn0m7z9BKhdDqSDvP9lOHwZHH+8/ZDpWCv0D7z/bC1gZw/3uP18KFxhZ+u4/Jdeymz/57j8ngtvcVf3uP/FowPVR8+4/5SI9uuje7j+ZzXhaRtjuPxWJlHbL0+4/DQKaw8XU7j+ZIhTxkrjuPyzWZ5bWe+4/8FtLBKF17j/k5Xon6m3uP6s67lUcae4/hcDfNPtQ7j84PnUEeEHuPx2Ohjz6Qu4/aN/zwSUz7j/Hc0Zh2i3uP0gwMHH8FO4/OIlBtGT67T9ZukZmMO7tP0lHwSg42e0/3F8ruQnK7T/LyryZQKntP/P7d0B/c+0/Q+H1EGZO7T93G8XoGzztPwVlKQ96L+0/uxd7MCQj7T957olbaRvtP03/vo5b8ew/n+r8SynH7D/5y7m1XKLsPxPHh2TnVOw/h/jIwV0G7D9vJiMqwsXrPzEMftKGm+s/kQiNcXB76z91NlWyhFfrP63gnAmgIOs/iWD4cz7E6j/YoFXTFnDqPxXQuNMDBeo/+QcIJrei6T99drt2HfHoPxXm/pRnj+c/VVVVVVVVxT8=",
          "dtype": "f8"
         }
        },
        {
         "line": {
          "color": "#B6E880",
          "width": 2
         },
         "mode": "lines",
         "name": "XGBClassifier (Macro-AP=0.95)",
         "type": "scatter",
         "x": {
          "bdata": "AAAAAAAAAABbv1Kg1q+EP1u/UqDWr5Q/CB988MEHnz9bv1Kg1q+kPzJvZ0jM26k/CB988MEHrz9wZ0jM2xmyP1u/UqDWr7Q/RhdddNFFtz8yb2dIzNu5Px3HcRzHcbw/CB988MEHvz96O0Ni3s7AP3BnSMzbGcI/ZZNNNtlkwz9bv1Kg1q/EP1HrVwrU+sU/RhdddNFFxz88Q2LezpDIPzJvZ0jM28k/J5tssskmyz8dx3Ecx3HMPxPzdobEvM0/CB988MEHzz9/pUCtXynQP3o7Q2LeztA/ddFFF1100T9wZ0jM2xnSP2r9SoFav9I/ZZNNNtlk0z9gKVDrVwrUP1u/UqDWr9Q/VlVVVVVV1T9R61cK1PrVP0yBWr9SoNY/RhdddNFF1z9BrV8pUOvXPzxDYt7OkNg/N9lkk0022T8yb2dIzNvZPy0Fav1Kgdo/J5tssskm2z8iMW9nSMzbPx3HcRzHcdw/GF100UUX3T8T83aGxLzdPw6JeTtDYt4/CB988MEH3z8DtX6lQK3fP3+lQK1fKeA/ffDBBx984D96O0Ni3s7gP3eGxLydIeE/ddFFF1104T9yHMdxHMfhP3BnSMzbGeI/bbLJJpts4j9q/UqBWr/iP2hIzNsZEuM/ZZNNNtlk4z9j3s6QmLfjP2ApUOtXCuQ/XnTRRRdd5D9bv1Kg1q/kP1gK1PqVAuU/VlVVVVVV5T9ToNavFKjlP1HrVwrU+uU/TjbZZJNN5j9MgVq/UqDmP0nM2xkS8+Y/RhdddNFF5z9EYt7OkJjnP0GtXylQ6+c/P/jggw8+6D88Q2LezpDoPzmO4ziO4+g/N9lkk0026T80JObtDInpPzJvZ0jM2+k/L7rooosu6j8tBWr9SoHqPypQ61cK1Oo/J5tssskm6z8l5u0MiXnrPyIxb2dIzOs/IHzwwQcf7D8dx3Ecx3HsPxsS83aGxOw/GF100UUX7T8VqPUrBWrtPxPzdobEvO0/ED744IMP7j8OiXk7Q2LuPwvU+pUCte4/CB988MEH7z8Gav1KgVrvPwO1fqVAre8/AAAAAAAA8D8=",
          "dtype": "f8"
         },
         "y": {
          "bdata": "AAAAAAAA8D8AAAAAAADwPwAAAAAAAPA/AAAAAAAA8D8AAAAAAADwPwAAAAAAAPA/AAAAAAAA8D8AAAAAAADwPwAAAAAAAPA/AAAAAAAA8D8AAAAAAADwPwAAAAAAAPA/C6ojY5vM7z9ot5dPbdDvP5FUmj+40+8/YXkRS5bW7z+F9AuVGdnvP+Q3tx9T2+8/YKxRSU/d7z/oNHZ0F9/vP+WZ3zKz4O8/CJJtsCji7z85OfMBfePvP/zzBXN6yu8/RIFTa1u07z8tRIhWOLfvPzcKZwHgue8/eXMEAVi87z8j3vcppb7vP2u0o6/LwO8/qw2YPc/C7z+wAagDD7LvP+1w26lbtO8/nC5ztYa27z+9WkLwkrjvP+Gaq/A6qu8/76pouHes7z+IVo7urpDvP3Vj739zd+8/hZye3pt67z8LT2Z89mPvP03Z2J8WX+8/H4jbR4Vi7z8LHl9kDFrvPzFoa30TUu8/RSZ3mY9K7z8gx09ZCE7vPxTckr1HS+8//ORYjp9O7z9XKEIDDUzvP0Gua2JYRe8/cX8NN4M17z/NrVLL7jjvP9+QsWPrNu8/M/EkVUYx7z9BrvST5BrvP5wIKz42Fu8/rdARx7wR7z+trKlIwwXvP/c6ZmKoA+8/TSWwBh3c7j8Uw2J0HZ3uP8g+JElVnO4/Y04Ra8ma7j/lBOUVA33uP1g6IeZtWO4/NMO7L/5O7j+IRpcf2U/uPxCWP+u6UO4/q1qBYJ5G7j8r5cWEtELuP9UBAerZEe4/Y6sJfasG7j+E3CHxqvrtP+OhuYDS6+0/ESxT2pDo7T88fNIaK+LtP4zRWYapqO0/RyylLw927T/Z5PDcqWrtP8PVY1U2Pu0/TdeiI3kf7T/PE4Q0XwftP2zVb1tf6+w/WK/uvI2m7D/AwxdCRI3sP/cSxCBfUOw/05keXDkX7D/fb2dI9P3rP4C/Jn48s+s/GZFTFFpc6z+jq+reETHrPymGW543++o/T9aJAAmJ6j/Bh/dFQi3qP8skC2C9lOk/VZaQ4ZAl6T/DydnO1UHoP39fjudUgOY/VVVVVVVVxT8=",
          "dtype": "f8"
         }
        },
        {
         "line": {
          "color": "black",
          "dash": "dash"
         },
         "mode": "lines",
         "name": "Random (baseline)",
         "type": "scatter",
         "x": [
          0,
          1
         ],
         "y": [
          0.5,
          0.5
         ]
        }
       ],
       "layout": {
        "height": 600,
        "legend": {
         "title": {
          "text": "Models"
         }
        },
        "template": {
         "data": {
          "bar": [
           {
            "error_x": {
             "color": "#2a3f5f"
            },
            "error_y": {
             "color": "#2a3f5f"
            },
            "marker": {
             "line": {
              "color": "white",
              "width": 0.5
             },
             "pattern": {
              "fillmode": "overlay",
              "size": 10,
              "solidity": 0.2
             }
            },
            "type": "bar"
           }
          ],
          "barpolar": [
           {
            "marker": {
             "line": {
              "color": "white",
              "width": 0.5
             },
             "pattern": {
              "fillmode": "overlay",
              "size": 10,
              "solidity": 0.2
             }
            },
            "type": "barpolar"
           }
          ],
          "carpet": [
           {
            "aaxis": {
             "endlinecolor": "#2a3f5f",
             "gridcolor": "#C8D4E3",
             "linecolor": "#C8D4E3",
             "minorgridcolor": "#C8D4E3",
             "startlinecolor": "#2a3f5f"
            },
            "baxis": {
             "endlinecolor": "#2a3f5f",
             "gridcolor": "#C8D4E3",
             "linecolor": "#C8D4E3",
             "minorgridcolor": "#C8D4E3",
             "startlinecolor": "#2a3f5f"
            },
            "type": "carpet"
           }
          ],
          "choropleth": [
           {
            "colorbar": {
             "outlinewidth": 0,
             "ticks": ""
            },
            "type": "choropleth"
           }
          ],
          "contour": [
           {
            "colorbar": {
             "outlinewidth": 0,
             "ticks": ""
            },
            "colorscale": [
             [
              0,
              "#0d0887"
             ],
             [
              0.1111111111111111,
              "#46039f"
             ],
             [
              0.2222222222222222,
              "#7201a8"
             ],
             [
              0.3333333333333333,
              "#9c179e"
             ],
             [
              0.4444444444444444,
              "#bd3786"
             ],
             [
              0.5555555555555556,
              "#d8576b"
             ],
             [
              0.6666666666666666,
              "#ed7953"
             ],
             [
              0.7777777777777778,
              "#fb9f3a"
             ],
             [
              0.8888888888888888,
              "#fdca26"
             ],
             [
              1,
              "#f0f921"
             ]
            ],
            "type": "contour"
           }
          ],
          "contourcarpet": [
           {
            "colorbar": {
             "outlinewidth": 0,
             "ticks": ""
            },
            "type": "contourcarpet"
           }
          ],
          "heatmap": [
           {
            "colorbar": {
             "outlinewidth": 0,
             "ticks": ""
            },
            "colorscale": [
             [
              0,
              "#0d0887"
             ],
             [
              0.1111111111111111,
              "#46039f"
             ],
             [
              0.2222222222222222,
              "#7201a8"
             ],
             [
              0.3333333333333333,
              "#9c179e"
             ],
             [
              0.4444444444444444,
              "#bd3786"
             ],
             [
              0.5555555555555556,
              "#d8576b"
             ],
             [
              0.6666666666666666,
              "#ed7953"
             ],
             [
              0.7777777777777778,
              "#fb9f3a"
             ],
             [
              0.8888888888888888,
              "#fdca26"
             ],
             [
              1,
              "#f0f921"
             ]
            ],
            "type": "heatmap"
           }
          ],
          "histogram": [
           {
            "marker": {
             "pattern": {
              "fillmode": "overlay",
              "size": 10,
              "solidity": 0.2
             }
            },
            "type": "histogram"
           }
          ],
          "histogram2d": [
           {
            "colorbar": {
             "outlinewidth": 0,
             "ticks": ""
            },
            "colorscale": [
             [
              0,
              "#0d0887"
             ],
             [
              0.1111111111111111,
              "#46039f"
             ],
             [
              0.2222222222222222,
              "#7201a8"
             ],
             [
              0.3333333333333333,
              "#9c179e"
             ],
             [
              0.4444444444444444,
              "#bd3786"
             ],
             [
              0.5555555555555556,
              "#d8576b"
             ],
             [
              0.6666666666666666,
              "#ed7953"
             ],
             [
              0.7777777777777778,
              "#fb9f3a"
             ],
             [
              0.8888888888888888,
              "#fdca26"
             ],
             [
              1,
              "#f0f921"
             ]
            ],
            "type": "histogram2d"
           }
          ],
          "histogram2dcontour": [
           {
            "colorbar": {
             "outlinewidth": 0,
             "ticks": ""
            },
            "colorscale": [
             [
              0,
              "#0d0887"
             ],
             [
              0.1111111111111111,
              "#46039f"
             ],
             [
              0.2222222222222222,
              "#7201a8"
             ],
             [
              0.3333333333333333,
              "#9c179e"
             ],
             [
              0.4444444444444444,
              "#bd3786"
             ],
             [
              0.5555555555555556,
              "#d8576b"
             ],
             [
              0.6666666666666666,
              "#ed7953"
             ],
             [
              0.7777777777777778,
              "#fb9f3a"
             ],
             [
              0.8888888888888888,
              "#fdca26"
             ],
             [
              1,
              "#f0f921"
             ]
            ],
            "type": "histogram2dcontour"
           }
          ],
          "mesh3d": [
           {
            "colorbar": {
             "outlinewidth": 0,
             "ticks": ""
            },
            "type": "mesh3d"
           }
          ],
          "parcoords": [
           {
            "line": {
             "colorbar": {
              "outlinewidth": 0,
              "ticks": ""
             }
            },
            "type": "parcoords"
           }
          ],
          "pie": [
           {
            "automargin": true,
            "type": "pie"
           }
          ],
          "scatter": [
           {
            "fillpattern": {
             "fillmode": "overlay",
             "size": 10,
             "solidity": 0.2
            },
            "type": "scatter"
           }
          ],
          "scatter3d": [
           {
            "line": {
             "colorbar": {
              "outlinewidth": 0,
              "ticks": ""
             }
            },
            "marker": {
             "colorbar": {
              "outlinewidth": 0,
              "ticks": ""
             }
            },
            "type": "scatter3d"
           }
          ],
          "scattercarpet": [
           {
            "marker": {
             "colorbar": {
              "outlinewidth": 0,
              "ticks": ""
             }
            },
            "type": "scattercarpet"
           }
          ],
          "scattergeo": [
           {
            "marker": {
             "colorbar": {
              "outlinewidth": 0,
              "ticks": ""
             }
            },
            "type": "scattergeo"
           }
          ],
          "scattergl": [
           {
            "marker": {
             "colorbar": {
              "outlinewidth": 0,
              "ticks": ""
             }
            },
            "type": "scattergl"
           }
          ],
          "scattermap": [
           {
            "marker": {
             "colorbar": {
              "outlinewidth": 0,
              "ticks": ""
             }
            },
            "type": "scattermap"
           }
          ],
          "scattermapbox": [
           {
            "marker": {
             "colorbar": {
              "outlinewidth": 0,
              "ticks": ""
             }
            },
            "type": "scattermapbox"
           }
          ],
          "scatterpolar": [
           {
            "marker": {
             "colorbar": {
              "outlinewidth": 0,
              "ticks": ""
             }
            },
            "type": "scatterpolar"
           }
          ],
          "scatterpolargl": [
           {
            "marker": {
             "colorbar": {
              "outlinewidth": 0,
              "ticks": ""
             }
            },
            "type": "scatterpolargl"
           }
          ],
          "scatterternary": [
           {
            "marker": {
             "colorbar": {
              "outlinewidth": 0,
              "ticks": ""
             }
            },
            "type": "scatterternary"
           }
          ],
          "surface": [
           {
            "colorbar": {
             "outlinewidth": 0,
             "ticks": ""
            },
            "colorscale": [
             [
              0,
              "#0d0887"
             ],
             [
              0.1111111111111111,
              "#46039f"
             ],
             [
              0.2222222222222222,
              "#7201a8"
             ],
             [
              0.3333333333333333,
              "#9c179e"
             ],
             [
              0.4444444444444444,
              "#bd3786"
             ],
             [
              0.5555555555555556,
              "#d8576b"
             ],
             [
              0.6666666666666666,
              "#ed7953"
             ],
             [
              0.7777777777777778,
              "#fb9f3a"
             ],
             [
              0.8888888888888888,
              "#fdca26"
             ],
             [
              1,
              "#f0f921"
             ]
            ],
            "type": "surface"
           }
          ],
          "table": [
           {
            "cells": {
             "fill": {
              "color": "#EBF0F8"
             },
             "line": {
              "color": "white"
             }
            },
            "header": {
             "fill": {
              "color": "#C8D4E3"
             },
             "line": {
              "color": "white"
             }
            },
            "type": "table"
           }
          ]
         },
         "layout": {
          "annotationdefaults": {
           "arrowcolor": "#2a3f5f",
           "arrowhead": 0,
           "arrowwidth": 1
          },
          "autotypenumbers": "strict",
          "coloraxis": {
           "colorbar": {
            "outlinewidth": 0,
            "ticks": ""
           }
          },
          "colorscale": {
           "diverging": [
            [
             0,
             "#8e0152"
            ],
            [
             0.1,
             "#c51b7d"
            ],
            [
             0.2,
             "#de77ae"
            ],
            [
             0.3,
             "#f1b6da"
            ],
            [
             0.4,
             "#fde0ef"
            ],
            [
             0.5,
             "#f7f7f7"
            ],
            [
             0.6,
             "#e6f5d0"
            ],
            [
             0.7,
             "#b8e186"
            ],
            [
             0.8,
             "#7fbc41"
            ],
            [
             0.9,
             "#4d9221"
            ],
            [
             1,
             "#276419"
            ]
           ],
           "sequential": [
            [
             0,
             "#0d0887"
            ],
            [
             0.1111111111111111,
             "#46039f"
            ],
            [
             0.2222222222222222,
             "#7201a8"
            ],
            [
             0.3333333333333333,
             "#9c179e"
            ],
            [
             0.4444444444444444,
             "#bd3786"
            ],
            [
             0.5555555555555556,
             "#d8576b"
            ],
            [
             0.6666666666666666,
             "#ed7953"
            ],
            [
             0.7777777777777778,
             "#fb9f3a"
            ],
            [
             0.8888888888888888,
             "#fdca26"
            ],
            [
             1,
             "#f0f921"
            ]
           ],
           "sequentialminus": [
            [
             0,
             "#0d0887"
            ],
            [
             0.1111111111111111,
             "#46039f"
            ],
            [
             0.2222222222222222,
             "#7201a8"
            ],
            [
             0.3333333333333333,
             "#9c179e"
            ],
            [
             0.4444444444444444,
             "#bd3786"
            ],
            [
             0.5555555555555556,
             "#d8576b"
            ],
            [
             0.6666666666666666,
             "#ed7953"
            ],
            [
             0.7777777777777778,
             "#fb9f3a"
            ],
            [
             0.8888888888888888,
             "#fdca26"
            ],
            [
             1,
             "#f0f921"
            ]
           ]
          },
          "colorway": [
           "#636efa",
           "#EF553B",
           "#00cc96",
           "#ab63fa",
           "#FFA15A",
           "#19d3f3",
           "#FF6692",
           "#B6E880",
           "#FF97FF",
           "#FECB52"
          ],
          "font": {
           "color": "#2a3f5f"
          },
          "geo": {
           "bgcolor": "white",
           "lakecolor": "white",
           "landcolor": "white",
           "showlakes": true,
           "showland": true,
           "subunitcolor": "#C8D4E3"
          },
          "hoverlabel": {
           "align": "left"
          },
          "hovermode": "closest",
          "mapbox": {
           "style": "light"
          },
          "paper_bgcolor": "white",
          "plot_bgcolor": "white",
          "polar": {
           "angularaxis": {
            "gridcolor": "#EBF0F8",
            "linecolor": "#EBF0F8",
            "ticks": ""
           },
           "bgcolor": "white",
           "radialaxis": {
            "gridcolor": "#EBF0F8",
            "linecolor": "#EBF0F8",
            "ticks": ""
           }
          },
          "scene": {
           "xaxis": {
            "backgroundcolor": "white",
            "gridcolor": "#DFE8F3",
            "gridwidth": 2,
            "linecolor": "#EBF0F8",
            "showbackground": true,
            "ticks": "",
            "zerolinecolor": "#EBF0F8"
           },
           "yaxis": {
            "backgroundcolor": "white",
            "gridcolor": "#DFE8F3",
            "gridwidth": 2,
            "linecolor": "#EBF0F8",
            "showbackground": true,
            "ticks": "",
            "zerolinecolor": "#EBF0F8"
           },
           "zaxis": {
            "backgroundcolor": "white",
            "gridcolor": "#DFE8F3",
            "gridwidth": 2,
            "linecolor": "#EBF0F8",
            "showbackground": true,
            "ticks": "",
            "zerolinecolor": "#EBF0F8"
           }
          },
          "shapedefaults": {
           "line": {
            "color": "#2a3f5f"
           }
          },
          "ternary": {
           "aaxis": {
            "gridcolor": "#DFE8F3",
            "linecolor": "#A2B1C6",
            "ticks": ""
           },
           "baxis": {
            "gridcolor": "#DFE8F3",
            "linecolor": "#A2B1C6",
            "ticks": ""
           },
           "bgcolor": "white",
           "caxis": {
            "gridcolor": "#DFE8F3",
            "linecolor": "#A2B1C6",
            "ticks": ""
           }
          },
          "title": {
           "x": 0.05
          },
          "xaxis": {
           "automargin": true,
           "gridcolor": "#EBF0F8",
           "linecolor": "#EBF0F8",
           "ticks": "",
           "title": {
            "standoff": 15
           },
           "zerolinecolor": "#EBF0F8",
           "zerolinewidth": 2
          },
          "yaxis": {
           "automargin": true,
           "gridcolor": "#EBF0F8",
           "linecolor": "#EBF0F8",
           "ticks": "",
           "title": {
            "standoff": 15
           },
           "zerolinecolor": "#EBF0F8",
           "zerolinewidth": 2
          }
         }
        },
        "title": {
         "text": "OvR Macro PRC Curves — Landsat"
        },
        "width": 800,
        "xaxis": {
         "range": [
          0,
          1
         ],
         "title": {
          "text": "Recall"
         }
        },
        "yaxis": {
         "range": [
          0,
          1
         ],
         "title": {
          "text": "Precision"
         }
        }
       }
      }
     },
     "metadata": {},
     "output_type": "display_data"
    }
   ],
   "source": [
    "# =============================================================\n",
    "# Plot combined Macro PRC curves using Plotly\n",
    "# =============================================================\n",
    "\n",
    "import plotly.graph_objects as go\n",
    "import numpy as np\n",
    "\n",
    "fig = go.Figure()\n",
    "\n",
    "colors = px.colors.qualitative.Plotly  # 10 distinct colors\n",
    "\n",
    "recall_grid = np.linspace(0, 1, 100)\n",
    "\n",
    "for idx, (name, result) in enumerate(prc_results.items()):\n",
    "    # Compute mean precision across classes\n",
    "    mean_precision = np.zeros_like(recall_grid)\n",
    "    \n",
    "    for i in range(len(class_names)):\n",
    "        # Interpolate precision in descending recall order\n",
    "        mean_precision += np.interp(recall_grid, result[\"recall\"][i][::-1], result[\"precision\"][i][::-1])\n",
    "    mean_precision /= len(class_names)\n",
    "    \n",
    "    fig.add_trace(go.Scatter(\n",
    "        x=recall_grid,\n",
    "        y=mean_precision,\n",
    "        mode='lines',\n",
    "        name=f\"{name} (Macro-AP={result['macro_ap']:.2f})\",\n",
    "        line=dict(color=colors[idx % len(colors)], width=2)\n",
    "    ))\n",
    "\n",
    "# Add baseline line\n",
    "fig.add_trace(go.Scatter(\n",
    "    x=[0, 1],\n",
    "    y=[0.5, 0.5],\n",
    "    mode='lines',\n",
    "    line=dict(color='black', dash='dash'),\n",
    "    name=\"Random (baseline)\"\n",
    "))\n",
    "\n",
    "fig.update_layout(\n",
    "    title=\"OvR Macro PRC Curves — Landsat\",\n",
    "    xaxis_title=\"Recall\",\n",
    "    yaxis_title=\"Precision\",\n",
    "    xaxis=dict(range=[0,1]),\n",
    "    yaxis=dict(range=[0,1]),\n",
    "    legend=dict(title=\"Models\"),\n",
    "    template=\"plotly_white\",\n",
    "    width=800,\n",
    "    height=600\n",
    ")\n",
    "\n",
    "fig.show()"
   ]
  },
  {
   "cell_type": "markdown",
   "id": "3f702480",
   "metadata": {},
   "source": [
    "### PRC Interpretation (Part C)\n",
    "\n",
    "* **Macro-AP** highlights overall precision/recall performance across all classes equally.\n",
    "* **Weighted-AP** accounts for class support; better reflects majority-class performance.\n",
    "* Models with high Macro-AP retrieve positives reliably across all classes.\n",
    "* Poor models show rapidly declining precision as recall increases — many false positives added at lower thresholds.\n",
    "* PRC is especially informative for minority classes where ROC may appear overly optimistic."
   ]
  },
  {
   "cell_type": "code",
   "execution_count": 12,
   "id": "e4d00077",
   "metadata": {},
   "outputs": [
    {
     "name": "stdout",
     "output_type": "stream",
     "text": [
      "\n",
      "🔹 Diagnostics for Dummy\n"
     ]
    },
    {
     "name": "stderr",
     "output_type": "stream",
     "text": [
      "/home/chirag321122/miniconda3/lib/python3.13/site-packages/sklearn/metrics/_classification.py:1731: UndefinedMetricWarning:\n",
      "\n",
      "Precision is ill-defined and being set to 0.0 in labels with no predicted samples. Use `zero_division` parameter to control this behavior.\n",
      "\n",
      "/home/chirag321122/miniconda3/lib/python3.13/site-packages/sklearn/metrics/_classification.py:1731: UndefinedMetricWarning:\n",
      "\n",
      "Precision is ill-defined and being set to 0.0 in labels with no predicted samples. Use `zero_division` parameter to control this behavior.\n",
      "\n",
      "/home/chirag321122/miniconda3/lib/python3.13/site-packages/sklearn/metrics/_classification.py:1731: UndefinedMetricWarning:\n",
      "\n",
      "Precision is ill-defined and being set to 0.0 in labels with no predicted samples. Use `zero_division` parameter to control this behavior.\n",
      "\n"
     ]
    },
    {
     "data": {
      "image/png": "[encoded data removed]",
      "text/plain": [
       "<Figure size 600x480 with 1 Axes>"
      ]
     },
     "metadata": {},
     "output_type": "display_data"
    },
    {
     "name": "stdout",
     "output_type": "stream",
     "text": [
      "\n",
      "🔹 Diagnostics for KNN\n"
     ]
    },
    {
     "data": {
      "image/png": "[encoded data removed]",
      "text/plain": [
       "<Figure size 600x480 with 1 Axes>"
      ]
     },
     "metadata": {},
     "output_type": "display_data"
    },
    {
     "name": "stdout",
     "output_type": "stream",
     "text": [
      "\n",
      "🔹 Diagnostics for DecisionTree\n"
     ]
    },
    {
     "data": {
      "image/png": "[encoded data removed]",
      "text/plain": [
       "<Figure size 600x480 with 1 Axes>"
      ]
     },
     "metadata": {},
     "output_type": "display_data"
    },
    {
     "name": "stdout",
     "output_type": "stream",
     "text": [
      "\n",
      "🔹 Diagnostics for LogisticRegression\n"
     ]
    },
    {
     "data": {
      "image/png": "[encoded data removed]",
      "text/plain": [
       "<Figure size 600x480 with 1 Axes>"
      ]
     },
     "metadata": {},
     "output_type": "display_data"
    },
    {
     "name": "stdout",
     "output_type": "stream",
     "text": [
      "\n",
      "🔹 Diagnostics for GaussianNB\n"
     ]
    },
    {
     "data": {
      "image/png": "[encoded data removed]",
      "text/plain": [
       "<Figure size 600x480 with 1 Axes>"
      ]
     },
     "metadata": {},
     "output_type": "display_data"
    },
    {
     "name": "stdout",
     "output_type": "stream",
     "text": [
      "\n",
      "🔹 Diagnostics for SVC\n"
     ]
    },
    {
     "data": {
      "image/png": "[encoded data removed]",
      "text/plain": [
       "<Figure size 600x480 with 1 Axes>"
      ]
     },
     "metadata": {},
     "output_type": "display_data"
    },
    {
     "name": "stdout",
     "output_type": "stream",
     "text": [
      "\n",
      "🔹 Diagnostics for RandomForest\n"
     ]
    },
    {
     "data": {
      "image/png": "[encoded data removed]",
      "text/plain": [
       "<Figure size 600x480 with 1 Axes>"
      ]
     },
     "metadata": {},
     "output_type": "display_data"
    },
    {
     "name": "stdout",
     "output_type": "stream",
     "text": [
      "\n",
      "🔹 Diagnostics for XGBClassifier\n"
     ]
    },
    {
     "data": {
      "image/png": "[encoded data removed]",
      "text/plain": [
       "<Figure size 600x480 with 1 Axes>"
      ]
     },
     "metadata": {},
     "output_type": "display_data"
    }
   ],
   "source": [
    "# =============================================================\n",
    "# Per-class diagnostics for all models\n",
    "# =============================================================\n",
    "\n",
    "from sklearn.metrics import classification_report, confusion_matrix, ConfusionMatrixDisplay\n",
    "\n",
    "per_class_metrics = {}\n",
    "\n",
    "for name, model in fitted_models.items():\n",
    "    print(f\"\\n🔹 Diagnostics for {name}\")\n",
    "    \n",
    "    # Predict\n",
    "    y_pred_enc = model.predict(X_test_scaled)\n",
    "    y_pred = np.array([inv_label_map[y] for y in y_pred_enc])\n",
    "    \n",
    "    # Classification report (per-class precision, recall, F1)\n",
    "    report = classification_report(y_test, y_pred, output_dict=True)\n",
    "    per_class_metrics[name] = report\n",
    "    \n",
    "    # Confusion matrix (normalized)\n",
    "    cm = confusion_matrix(y_test, y_pred, labels=class_names, normalize='true')\n",
    "    \n",
    "    disp = ConfusionMatrixDisplay(cm, display_labels=class_names)\n",
    "    fig, ax = plt.subplots(figsize=(5,4))\n",
    "    disp.plot(ax=ax, cmap=plt.cm.Blues, colorbar=False)\n",
    "    ax.set_title(f\"Normalized Confusion Matrix — {name}\")\n",
    "    plt.show()"
   ]
  },
  {
   "cell_type": "markdown",
   "id": "c5138f4b",
   "metadata": {},
   "source": [
    "### Per-Class Diagnostics\n",
    "\n",
    "* Confusion matrices reveal which classes are most often confused.\n",
    "* Per-class metrics highlight minority classes that may be underperforming.\n",
    "* Useful for targeted model improvement or threshold tuning."
   ]
  },
  {
   "cell_type": "code",
   "execution_count": 13,
   "id": "7d2120e1",
   "metadata": {},
   "outputs": [
    {
     "data": {
      "text/html": [
       "<div>\n",
       "<style scoped>\n",
       "    .dataframe tbody tr th:only-of-type {\n",
       "        vertical-align: middle;\n",
       "    }\n",
       "\n",
       "    .dataframe tbody tr th {\n",
       "        vertical-align: top;\n",
       "    }\n",
       "\n",
       "    .dataframe thead th {\n",
       "        text-align: right;\n",
       "    }\n",
       "</style>\n",
       "<table border=\"1\" class=\"dataframe\">\n",
       "  <thead>\n",
       "    <tr style=\"text-align: right;\">\n",
       "      <th></th>\n",
       "      <th>Model</th>\n",
       "      <th>Accuracy</th>\n",
       "      <th>Weighted F1</th>\n",
       "      <th>Macro ROC-AUC</th>\n",
       "      <th>Weighted ROC-AUC</th>\n",
       "      <th>Micro ROC-AUC</th>\n",
       "      <th>Macro AP</th>\n",
       "      <th>Weighted AP</th>\n",
       "      <th>Micro AP</th>\n",
       "    </tr>\n",
       "  </thead>\n",
       "  <tbody>\n",
       "    <tr>\n",
       "      <th>0</th>\n",
       "      <td>RandomForest</td>\n",
       "      <td>0.9115</td>\n",
       "      <td>0.909437</td>\n",
       "      <td>0.990113</td>\n",
       "      <td>0.991391</td>\n",
       "      <td>0.994130</td>\n",
       "      <td>0.951739</td>\n",
       "      <td>0.961349</td>\n",
       "      <td>0.973336</td>\n",
       "    </tr>\n",
       "    <tr>\n",
       "      <th>1</th>\n",
       "      <td>XGBClassifier</td>\n",
       "      <td>0.9050</td>\n",
       "      <td>0.902956</td>\n",
       "      <td>0.990004</td>\n",
       "      <td>0.991279</td>\n",
       "      <td>0.993913</td>\n",
       "      <td>0.950944</td>\n",
       "      <td>0.961217</td>\n",
       "      <td>0.973755</td>\n",
       "    </tr>\n",
       "    <tr>\n",
       "      <th>2</th>\n",
       "      <td>KNN</td>\n",
       "      <td>0.9045</td>\n",
       "      <td>0.903748</td>\n",
       "      <td>0.978567</td>\n",
       "      <td>0.981671</td>\n",
       "      <td>0.984136</td>\n",
       "      <td>0.921665</td>\n",
       "      <td>0.934159</td>\n",
       "      <td>0.946248</td>\n",
       "    </tr>\n",
       "    <tr>\n",
       "      <th>3</th>\n",
       "      <td>SVC</td>\n",
       "      <td>0.8955</td>\n",
       "      <td>0.892490</td>\n",
       "      <td>0.985038</td>\n",
       "      <td>0.986894</td>\n",
       "      <td>0.992048</td>\n",
       "      <td>0.917691</td>\n",
       "      <td>0.933573</td>\n",
       "      <td>0.964452</td>\n",
       "    </tr>\n",
       "    <tr>\n",
       "      <th>4</th>\n",
       "      <td>LogisticRegression</td>\n",
       "      <td>0.8210</td>\n",
       "      <td>0.793483</td>\n",
       "      <td>0.953952</td>\n",
       "      <td>0.961726</td>\n",
       "      <td>0.974513</td>\n",
       "      <td>0.811551</td>\n",
       "      <td>0.842800</td>\n",
       "      <td>0.900200</td>\n",
       "    </tr>\n",
       "    <tr>\n",
       "      <th>5</th>\n",
       "      <td>GaussianNB</td>\n",
       "      <td>0.7965</td>\n",
       "      <td>0.803581</td>\n",
       "      <td>0.955126</td>\n",
       "      <td>0.958875</td>\n",
       "      <td>0.961095</td>\n",
       "      <td>0.810451</td>\n",
       "      <td>0.840010</td>\n",
       "      <td>0.853145</td>\n",
       "    </tr>\n",
       "    <tr>\n",
       "      <th>6</th>\n",
       "      <td>DecisionTree</td>\n",
       "      <td>0.8505</td>\n",
       "      <td>0.850938</td>\n",
       "      <td>0.900248</td>\n",
       "      <td>0.909719</td>\n",
       "      <td>0.910300</td>\n",
       "      <td>0.736591</td>\n",
       "      <td>0.763495</td>\n",
       "      <td>0.748267</td>\n",
       "    </tr>\n",
       "    <tr>\n",
       "      <th>7</th>\n",
       "      <td>Dummy</td>\n",
       "      <td>0.2305</td>\n",
       "      <td>0.086356</td>\n",
       "      <td>0.500000</td>\n",
       "      <td>0.500000</td>\n",
       "      <td>0.606100</td>\n",
       "      <td>0.166667</td>\n",
       "      <td>0.185474</td>\n",
       "      <td>0.212272</td>\n",
       "    </tr>\n",
       "  </tbody>\n",
       "</table>\n",
       "</div>"
      ],
      "text/plain": [
       "                Model  Accuracy  Weighted F1  Macro ROC-AUC  Weighted ROC-AUC  \\\n",
       "0        RandomForest    0.9115     0.909437       0.990113          0.991391   \n",
       "1       XGBClassifier    0.9050     0.902956       0.990004          0.991279   \n",
       "2                 KNN    0.9045     0.903748       0.978567          0.981671   \n",
       "3                 SVC    0.8955     0.892490       0.985038          0.986894   \n",
       "4  LogisticRegression    0.8210     0.793483       0.953952          0.961726   \n",
       "5          GaussianNB    0.7965     0.803581       0.955126          0.958875   \n",
       "6        DecisionTree    0.8505     0.850938       0.900248          0.909719   \n",
       "7               Dummy    0.2305     0.086356       0.500000          0.500000   \n",
       "\n",
       "   Micro ROC-AUC  Macro AP  Weighted AP  Micro AP  \n",
       "0       0.994130  0.951739     0.961349  0.973336  \n",
       "1       0.993913  0.950944     0.961217  0.973755  \n",
       "2       0.984136  0.921665     0.934159  0.946248  \n",
       "3       0.992048  0.917691     0.933573  0.964452  \n",
       "4       0.974513  0.811551     0.842800  0.900200  \n",
       "5       0.961095  0.810451     0.840010  0.853145  \n",
       "6       0.910300  0.736591     0.763495  0.748267  \n",
       "7       0.606100  0.166667     0.185474  0.212272  "
      ]
     },
     "execution_count": 13,
     "metadata": {},
     "output_type": "execute_result"
    }
   ],
   "source": [
    "# =============================================================\n",
    "# Comparison table for all models\n",
    "# =============================================================\n",
    "\n",
    "summary_results = []\n",
    "\n",
    "for name in fitted_models.keys():\n",
    "    # Baseline metrics\n",
    "    acc = baseline_df.loc[baseline_df[\"Model\"] == name, \"Accuracy\"].values[0]\n",
    "    f1w = baseline_df.loc[baseline_df[\"Model\"] == name, \"Weighted F1\"].values[0]\n",
    "    \n",
    "    # ROC / PRC metrics\n",
    "    macro_roc = roc_results[name][\"macro_auc\"]\n",
    "    macro_ap  = prc_results[name][\"macro_ap\"]\n",
    "    \n",
    "    weighted_roc = roc_results[name][\"weighted_auc\"]\n",
    "    weighted_ap  = prc_results[name][\"weighted_ap\"]\n",
    "    \n",
    "    micro_roc = roc_results[name][\"micro_auc\"]\n",
    "    micro_ap  = prc_results[name][\"micro_ap\"]\n",
    "    \n",
    "    summary_results.append({\n",
    "        \"Model\": name,\n",
    "        \"Accuracy\": acc,\n",
    "        \"Weighted F1\": f1w,\n",
    "        \"Macro ROC-AUC\": macro_roc,\n",
    "        \"Weighted ROC-AUC\": weighted_roc,\n",
    "        \"Micro ROC-AUC\": micro_roc,\n",
    "        \"Macro AP\": macro_ap,\n",
    "        \"Weighted AP\": weighted_ap,\n",
    "        \"Micro AP\": micro_ap\n",
    "    })\n",
    "\n",
    "summary_df = pd.DataFrame(summary_results).sort_values(by=\"Macro AP\", ascending=False)\n",
    "summary_df.reset_index(drop=True, inplace=True)\n",
    "\n",
    "summary_df"
   ]
  },
  {
   "cell_type": "markdown",
   "id": "c6c6befd",
   "metadata": {},
   "source": [
    "### Comparison & Synthesis\n",
    "\n",
    "* **Macro ROC-AUC** and **Macro AP** provide overall model quality across all classes equally.\n",
    "* Weighted and Micro metrics give insight into majority-class performance and global behavior.\n",
    "* Models with consistently high Macro-AP and Macro ROC-AUC are preferred for balanced multi-class performance.\n",
    "* Cross-referencing Accuracy, F1, ROC-AUC, and AP can reveal trade-offs:\n",
    "  - High F1 but lower AP may indicate threshold issues or poor minority-class precision.\n",
    "  - High ROC-AUC but low PRC AP may indicate good ranking but poor threshold-dependent precision.\n",
    "* Final recommendation should consider both threshold-independent and threshold-dependent metrics."
   ]
  },
  {
   "cell_type": "code",
   "execution_count": 14,
   "id": "a3819c93",
   "metadata": {},
   "outputs": [
    {
     "name": "stderr",
     "output_type": "stream",
     "text": [
      "/home/chirag321122/miniconda3/lib/python3.13/site-packages/sklearn/linear_model/_logistic.py:1281: FutureWarning:\n",
      "\n",
      "'multi_class' was deprecated in version 1.5 and will be removed in 1.7. Use OneVsRestClassifier(LogisticRegression(..)) instead. Leave it to its default value to avoid this warning.\n",
      "\n"
     ]
    },
    {
     "name": "stdout",
     "output_type": "stream",
     "text": [
      "Total models including brownie points: 10\n"
     ]
    },
    {
     "data": {
      "text/plain": [
       "['Dummy',\n",
       " 'KNN',\n",
       " 'DecisionTree',\n",
       " 'LogisticRegression',\n",
       " 'GaussianNB',\n",
       " 'SVC',\n",
       " 'RandomForest',\n",
       " 'XGBClassifier',\n",
       " 'InvertedLogistic',\n",
       " 'ShuffledLogReg']"
      ]
     },
     "execution_count": 14,
     "metadata": {},
     "output_type": "execute_result"
    }
   ],
   "source": [
    "# =============================================================\n",
    "# Brownie Points Experiments\n",
    "# =============================================================\n",
    "\n",
    "brownie_models = {}\n",
    "\n",
    "# --- Inverted LogisticRegression model ---\n",
    "log_model = fitted_models[\"LogisticRegression\"]\n",
    "\n",
    "class InvertedLogistic:\n",
    "    def __init__(self, model):\n",
    "        self.model = model\n",
    "    def predict(self, X):\n",
    "        return self.model.predict(X)\n",
    "    def predict_proba(self, X):\n",
    "        # Invert probabilities: 1 - p for each class\n",
    "        return 1 - self.model.predict_proba(X)\n",
    "\n",
    "brownie_models[\"InvertedLogistic\"] = InvertedLogistic(log_model)\n",
    "\n",
    "# --- Model trained on shuffled labels ---\n",
    "from sklearn.base import clone\n",
    "\n",
    "np.random.seed(RANDOM_STATE)\n",
    "y_train_shuffled = np.random.permutation(y_train_enc)\n",
    "shuffled_model = clone(fitted_models[\"LogisticRegression\"])\n",
    "shuffled_model.fit(X_train_scaled, y_train_shuffled)\n",
    "brownie_models[\"ShuffledLogReg\"] = shuffled_model\n",
    "\n",
    "# Combine with existing fitted models for evaluation\n",
    "all_models_extended = {**fitted_models, **brownie_models}\n",
    "\n",
    "print(f\"Total models including brownie points: {len(all_models_extended)}\")\n",
    "list(all_models_extended.keys())"
   ]
  },
  {
   "cell_type": "code",
   "execution_count": 15,
   "id": "73bbb506",
   "metadata": {},
   "outputs": [
    {
     "name": "stdout",
     "output_type": "stream",
     "text": [
      "Evaluating InvertedLogistic ...\n",
      "Evaluating ShuffledLogReg ...\n"
     ]
    },
    {
     "data": {
      "text/html": [
       "<div>\n",
       "<style scoped>\n",
       "    .dataframe tbody tr th:only-of-type {\n",
       "        vertical-align: middle;\n",
       "    }\n",
       "\n",
       "    .dataframe tbody tr th {\n",
       "        vertical-align: top;\n",
       "    }\n",
       "\n",
       "    .dataframe thead th {\n",
       "        text-align: right;\n",
       "    }\n",
       "</style>\n",
       "<table border=\"1\" class=\"dataframe\">\n",
       "  <thead>\n",
       "    <tr style=\"text-align: right;\">\n",
       "      <th></th>\n",
       "      <th>Model</th>\n",
       "      <th>Accuracy</th>\n",
       "      <th>Weighted F1</th>\n",
       "      <th>Macro ROC-AUC</th>\n",
       "      <th>Macro AP</th>\n",
       "    </tr>\n",
       "  </thead>\n",
       "  <tbody>\n",
       "    <tr>\n",
       "      <th>1</th>\n",
       "      <td>ShuffledLogReg</td>\n",
       "      <td>0.1000</td>\n",
       "      <td>0.082035</td>\n",
       "      <td>0.411319</td>\n",
       "      <td>0.143498</td>\n",
       "    </tr>\n",
       "    <tr>\n",
       "      <th>0</th>\n",
       "      <td>InvertedLogistic</td>\n",
       "      <td>0.0005</td>\n",
       "      <td>0.000216</td>\n",
       "      <td>0.046048</td>\n",
       "      <td>0.090913</td>\n",
       "    </tr>\n",
       "  </tbody>\n",
       "</table>\n",
       "</div>"
      ],
      "text/plain": [
       "              Model  Accuracy  Weighted F1  Macro ROC-AUC  Macro AP\n",
       "1    ShuffledLogReg    0.1000     0.082035       0.411319  0.143498\n",
       "0  InvertedLogistic    0.0005     0.000216       0.046048  0.090913"
      ]
     },
     "execution_count": 15,
     "metadata": {},
     "output_type": "execute_result"
    }
   ],
   "source": [
    "# =============================================================\n",
    "# Compute metrics for brownie point models\n",
    "# =============================================================\n",
    "\n",
    "brownie_results = []\n",
    "\n",
    "for name, model in brownie_models.items():\n",
    "    print(f\"Evaluating {name} ...\")\n",
    "    \n",
    "    # Predict\n",
    "    if hasattr(model, \"predict_proba\"):\n",
    "        y_score = model.predict_proba(X_test_scaled)\n",
    "    else:\n",
    "        y_score = model.decision_function(X_test_scaled)\n",
    "    \n",
    "    y_pred_enc = np.argmax(y_score, axis=1) if y_score.ndim > 1 else model.predict(X_test_scaled)\n",
    "    y_pred = np.array([inv_label_map[y] for y in y_pred_enc])\n",
    "    \n",
    "    acc = accuracy_score(y_test, y_pred)\n",
    "    f1w = f1_score(y_test, y_pred, average=\"weighted\")\n",
    "    \n",
    "    # ROC / PRC metrics\n",
    "    fpr, tpr, auc_per_class = {}, {}, {}\n",
    "    for i, label in enumerate(class_names):\n",
    "        fpr[i], tpr[i], _ = roc_curve(y_test_bin[:, i], y_score[:, i])\n",
    "        auc_per_class[i] = auc(fpr[i], tpr[i])\n",
    "    \n",
    "    macro_roc = np.mean(list(auc_per_class.values()))\n",
    "    macro_ap = np.mean([average_precision_score(y_test_bin[:, i], y_score[:, i]) \n",
    "                        for i in range(len(class_names))])\n",
    "    \n",
    "    brownie_results.append({\n",
    "        \"Model\": name,\n",
    "        \"Accuracy\": acc,\n",
    "        \"Weighted F1\": f1w,\n",
    "        \"Macro ROC-AUC\": macro_roc,\n",
    "        \"Macro AP\": macro_ap\n",
    "    })\n",
    "\n",
    "brownie_df = pd.DataFrame(brownie_results).sort_values(by=\"Macro AP\", ascending=False)\n",
    "brownie_df"
   ]
  },
  {
   "cell_type": "markdown",
   "id": "eadeb1c3",
   "metadata": {},
   "source": [
    "### Brownie Points Analysis\n",
    "\n",
    "* **Inverted LogisticRegression:** A deliberately inverted model. Some per-class AUCs < 0.5 — demonstrates what happens when predicted probabilities rank negatives higher than positives.\n",
    "* **Shuffled labels:** Shows near-random behavior; overall Macro-AP and Macro ROC-AUC close to 0.5.\n",
    "* Including these models in plots helps explain extreme cases and edge behavior.\n",
    "* Compare with normal models to understand the significance of high Macro-AP and Macro ROC-AUC."
   ]
  },
  {
   "cell_type": "markdown",
   "id": "2ae49148",
   "metadata": {},
   "source": [
    "## 22. Conclusions & Next Steps\n",
    "\n",
    "### Key Findings\n",
    "\n",
    "* **Best overall model:** [Insert model name with highest Macro-AP and Macro ROC-AUC].  \n",
    "  - Balances threshold-independent (ROC-AUC) and threshold-dependent (PRC/AP) performance.\n",
    "* **Minority class performance:** Confusion matrices and per-class diagnostics highlight classes that are often misclassified. Adjust thresholds or consider class-weighted loss for improvement.\n",
    "* **Brownie points models:** \n",
    "  - **Inverted LogisticRegression:** demonstrates AUC < 0.5 for some classes.\n",
    "  - **Shuffled labels:** near-random performance, Macro-AP ~0.5.\n",
    "\n",
    "### Recommendations\n",
    "\n",
    "* Use the best model with standard thresholds (0.5) for general use.  \n",
    "* Optionally tune thresholds per class if precision or recall priorities differ.  \n",
    "* Consider ensemble methods (RandomForest, XGB) for further performance improvement.  \n",
    "* Explore feature selection: central pixel features vs. full neighborhood (attributes 17–20 vs 1–36).  \n",
    "\n",
    "### Next Steps with More Time\n",
    "\n",
    "* Hyperparameter tuning (KNN neighbors, tree depth, SVC C/gamma)  \n",
    "* Model calibration for SVC and LogisticRegression  \n",
    "* More advanced ensemble methods (stacking, voting classifiers)  \n",
    "* Feature importance analysis and dimensionality reduction"
   ]
  },
  {
   "cell_type": "code",
   "execution_count": null,
   "id": "4f14a4d4",
   "metadata": {},
   "outputs": [],
   "source": []
  },
  {
   "cell_type": "code",
   "execution_count": null,
   "id": "9aad5af6",
   "metadata": {},
   "outputs": [],
   "source": []
  }
 ],
 "metadata": {
  "kernelspec": {
   "display_name": "base",
   "language": "python",
   "name": "python3"
  },
  "language_info": {
   "codemirror_mode": {
    "name": "ipython",
    "version": 3
   },
   "file_extension": ".py",
   "mimetype": "text/x-python",
   "name": "python",
   "nbconvert_exporter": "python",
   "pygments_lexer": "ipython3",
   "version": "3.13.5"
  }
 },
 "nbformat": 4,
 "nbformat_minor": 5
}
